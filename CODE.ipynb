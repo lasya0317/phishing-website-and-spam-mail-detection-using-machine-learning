{
 "cells": [
  {
   "cell_type": "markdown",
   "metadata": {},
   "source": [
    "# **Spam E-Mail Classification**"
   ]
  },
  {
   "cell_type": "markdown",
   "metadata": {},
   "source": [
    "# Import Statements"
   ]
  },
  {
   "cell_type": "code",
   "execution_count": null,
   "metadata": {},
   "outputs": [
    {
     "name": "stderr",
     "output_type": "stream",
     "text": [
      "[nltk_data] Downloading package stopwords to\n",
      "[nltk_data]     C:\\Users\\0877\\AppData\\Roaming\\nltk_data...\n",
      "[nltk_data]   Package stopwords is already up-to-date!\n"
     ]
    },
    {
     "data": {
      "text/plain": [
       "True"
      ]
     },
     "execution_count": 1,
     "metadata": {},
     "output_type": "execute_result"
    }
   ],
   "source": [
    "import pandas as pd\n",
    "import matplotlib.pyplot as plt\n",
    "import seaborn as sns\n",
    "# import plotly.express as px\n",
    "from plotly import graph_objects as go\n",
    "# from wordcloud import WordCloud\n",
    "# from textwrap import wrap\n",
    "import nltk\n",
    "import re\n",
    "from nltk.corpus import stopwords\n",
    "nltk.download('stopwords')"
   ]
  },
  {
   "cell_type": "markdown",
   "metadata": {},
   "source": [
    "# # Data collection"
   ]
  },
  {
   "cell_type": "code",
   "execution_count": 2,
   "metadata": {},
   "outputs": [
    {
     "data": {
      "text/html": [
       "<div>\n",
       "<style scoped>\n",
       "    .dataframe tbody tr th:only-of-type {\n",
       "        vertical-align: middle;\n",
       "    }\n",
       "\n",
       "    .dataframe tbody tr th {\n",
       "        vertical-align: top;\n",
       "    }\n",
       "\n",
       "    .dataframe thead th {\n",
       "        text-align: right;\n",
       "    }\n",
       "</style>\n",
       "<table border=\"1\" class=\"dataframe\">\n",
       "  <thead>\n",
       "    <tr style=\"text-align: right;\">\n",
       "      <th></th>\n",
       "      <th>Unnamed: 0</th>\n",
       "      <th>label</th>\n",
       "      <th>text</th>\n",
       "      <th>label_num</th>\n",
       "    </tr>\n",
       "  </thead>\n",
       "  <tbody>\n",
       "    <tr>\n",
       "      <th>0</th>\n",
       "      <td>605</td>\n",
       "      <td>ham</td>\n",
       "      <td>Subject: enron methanol ; meter # : 988291\\nth...</td>\n",
       "      <td>0</td>\n",
       "    </tr>\n",
       "    <tr>\n",
       "      <th>1</th>\n",
       "      <td>2349</td>\n",
       "      <td>ham</td>\n",
       "      <td>Subject: hpl nom for january 9 , 2001\\n( see a...</td>\n",
       "      <td>0</td>\n",
       "    </tr>\n",
       "    <tr>\n",
       "      <th>2</th>\n",
       "      <td>3624</td>\n",
       "      <td>ham</td>\n",
       "      <td>Subject: neon retreat\\nho ho ho , we ' re arou...</td>\n",
       "      <td>0</td>\n",
       "    </tr>\n",
       "    <tr>\n",
       "      <th>3</th>\n",
       "      <td>4685</td>\n",
       "      <td>spam</td>\n",
       "      <td>Subject: photoshop , windows , office . cheap ...</td>\n",
       "      <td>1</td>\n",
       "    </tr>\n",
       "    <tr>\n",
       "      <th>4</th>\n",
       "      <td>2030</td>\n",
       "      <td>ham</td>\n",
       "      <td>Subject: re : indian springs\\nthis deal is to ...</td>\n",
       "      <td>0</td>\n",
       "    </tr>\n",
       "  </tbody>\n",
       "</table>\n",
       "</div>"
      ],
      "text/plain": [
       "   Unnamed: 0 label                                               text  \\\n",
       "0         605   ham  Subject: enron methanol ; meter # : 988291\\nth...   \n",
       "1        2349   ham  Subject: hpl nom for january 9 , 2001\\n( see a...   \n",
       "2        3624   ham  Subject: neon retreat\\nho ho ho , we ' re arou...   \n",
       "3        4685  spam  Subject: photoshop , windows , office . cheap ...   \n",
       "4        2030   ham  Subject: re : indian springs\\nthis deal is to ...   \n",
       "\n",
       "   label_num  \n",
       "0          0  \n",
       "1          0  \n",
       "2          0  \n",
       "3          1  \n",
       "4          0  "
      ]
     },
     "execution_count": 2,
     "metadata": {},
     "output_type": "execute_result"
    }
   ],
   "source": [
    "df = pd.read_csv(r'dataset\\spam_ham_dataset.csv')\n",
    "df.head()"
   ]
  },
  {
   "cell_type": "markdown",
   "metadata": {},
   "source": [
    "## Analze data"
   ]
  },
  {
   "cell_type": "code",
   "execution_count": 3,
   "metadata": {},
   "outputs": [
    {
     "data": {
      "text/plain": [
       "(5171, 4)"
      ]
     },
     "execution_count": 3,
     "metadata": {},
     "output_type": "execute_result"
    }
   ],
   "source": [
    "df.shape"
   ]
  },
  {
   "cell_type": "code",
   "execution_count": 4,
   "metadata": {},
   "outputs": [
    {
     "name": "stdout",
     "output_type": "stream",
     "text": [
      "<class 'pandas.core.frame.DataFrame'>\n",
      "RangeIndex: 5171 entries, 0 to 5170\n",
      "Data columns (total 4 columns):\n",
      " #   Column      Non-Null Count  Dtype \n",
      "---  ------      --------------  ----- \n",
      " 0   Unnamed: 0  5171 non-null   int64 \n",
      " 1   label       5171 non-null   object\n",
      " 2   text        5171 non-null   object\n",
      " 3   label_num   5171 non-null   int64 \n",
      "dtypes: int64(2), object(2)\n",
      "memory usage: 161.7+ KB\n"
     ]
    }
   ],
   "source": [
    "df.info()"
   ]
  },
  {
   "cell_type": "code",
   "execution_count": 5,
   "metadata": {},
   "outputs": [
    {
     "data": {
      "text/plain": [
       "0"
      ]
     },
     "execution_count": 5,
     "metadata": {},
     "output_type": "execute_result"
    }
   ],
   "source": [
    "df.duplicated().sum()"
   ]
  },
  {
   "cell_type": "code",
   "execution_count": 6,
   "metadata": {},
   "outputs": [
    {
     "data": {
      "text/plain": [
       "Unnamed: 0    0\n",
       "label         0\n",
       "text          0\n",
       "label_num     0\n",
       "dtype: int64"
      ]
     },
     "execution_count": 6,
     "metadata": {},
     "output_type": "execute_result"
    }
   ],
   "source": [
    "df.isnull().sum()"
   ]
  },
  {
   "cell_type": "code",
   "execution_count": 7,
   "metadata": {},
   "outputs": [
    {
     "data": {
      "text/html": [
       "<div>\n",
       "<style scoped>\n",
       "    .dataframe tbody tr th:only-of-type {\n",
       "        vertical-align: middle;\n",
       "    }\n",
       "\n",
       "    .dataframe tbody tr th {\n",
       "        vertical-align: top;\n",
       "    }\n",
       "\n",
       "    .dataframe thead th {\n",
       "        text-align: right;\n",
       "    }\n",
       "</style>\n",
       "<table border=\"1\" class=\"dataframe\">\n",
       "  <thead>\n",
       "    <tr style=\"text-align: right;\">\n",
       "      <th></th>\n",
       "      <th>count</th>\n",
       "      <th>mean</th>\n",
       "      <th>std</th>\n",
       "      <th>min</th>\n",
       "      <th>25%</th>\n",
       "      <th>50%</th>\n",
       "      <th>75%</th>\n",
       "      <th>max</th>\n",
       "    </tr>\n",
       "  </thead>\n",
       "  <tbody>\n",
       "    <tr>\n",
       "      <th>Unnamed: 0</th>\n",
       "      <td>5171.0</td>\n",
       "      <td>2585.000000</td>\n",
       "      <td>1492.883452</td>\n",
       "      <td>0.0</td>\n",
       "      <td>1292.5</td>\n",
       "      <td>2585.0</td>\n",
       "      <td>3877.5</td>\n",
       "      <td>5170.0</td>\n",
       "    </tr>\n",
       "    <tr>\n",
       "      <th>label_num</th>\n",
       "      <td>5171.0</td>\n",
       "      <td>0.289886</td>\n",
       "      <td>0.453753</td>\n",
       "      <td>0.0</td>\n",
       "      <td>0.0</td>\n",
       "      <td>0.0</td>\n",
       "      <td>1.0</td>\n",
       "      <td>1.0</td>\n",
       "    </tr>\n",
       "  </tbody>\n",
       "</table>\n",
       "</div>"
      ],
      "text/plain": [
       "             count         mean          std  min     25%     50%     75%  \\\n",
       "Unnamed: 0  5171.0  2585.000000  1492.883452  0.0  1292.5  2585.0  3877.5   \n",
       "label_num   5171.0     0.289886     0.453753  0.0     0.0     0.0     1.0   \n",
       "\n",
       "               max  \n",
       "Unnamed: 0  5170.0  \n",
       "label_num      1.0  "
      ]
     },
     "execution_count": 7,
     "metadata": {},
     "output_type": "execute_result"
    }
   ],
   "source": [
    "df.describe().T"
   ]
  },
  {
   "cell_type": "code",
   "execution_count": 8,
   "metadata": {},
   "outputs": [
    {
     "data": {
      "text/plain": [
       "Index(['Unnamed: 0', 'label', 'text', 'label_num'], dtype='object')"
      ]
     },
     "execution_count": 8,
     "metadata": {},
     "output_type": "execute_result"
    }
   ],
   "source": [
    "df.columns"
   ]
  },
  {
   "cell_type": "code",
   "execution_count": 9,
   "metadata": {},
   "outputs": [
    {
     "data": {
      "text/plain": [
       "label\n",
       "ham     3672\n",
       "spam    1499\n",
       "Name: count, dtype: int64"
      ]
     },
     "execution_count": 9,
     "metadata": {},
     "output_type": "execute_result"
    }
   ],
   "source": [
    "df['label'].value_counts()"
   ]
  },
  {
   "cell_type": "code",
   "execution_count": 10,
   "metadata": {},
   "outputs": [
    {
     "data": {
      "text/plain": [
       "label_num\n",
       "0    3672\n",
       "1    1499\n",
       "Name: count, dtype: int64"
      ]
     },
     "execution_count": 10,
     "metadata": {},
     "output_type": "execute_result"
    }
   ],
   "source": [
    "# count the values on target column in numaric data\n",
    "df['label_num'].value_counts()"
   ]
  },
  {
   "cell_type": "markdown",
   "metadata": {},
   "source": [
    "## Analze:\n",
    "\n",
    "* in here Unnamed: 0 is unneccssary column. \n",
    "* label_num contains value of label column. \n",
    "* labels:\n",
    "    * 0 => ham\n",
    "    * 1 => spam\n",
    "* so we can drop Unnamed: 0 and label."
   ]
  },
  {
   "cell_type": "markdown",
   "metadata": {},
   "source": [
    "# # Data preprocessing"
   ]
  },
  {
   "cell_type": "code",
   "execution_count": 11,
   "metadata": {},
   "outputs": [
    {
     "data": {
      "image/png": "[encoded data removed]",
      "text/plain": [
       "<Figure size 800x600 with 1 Axes>"
      ]
     },
     "metadata": {},
     "output_type": "display_data"
    }
   ],
   "source": [
    "# 'label' column from the DataFrame 'df', visualizing the distribution of categories in the textual data.\n",
    "sns.set(style='darkgrid')\n",
    "plt.figure(figsize=(8, 6))\n",
    "sns.countplot(x=df['label'])\n",
    "plt.title('Countplot of Textual Data')\n",
    "plt.xlabel('Categories')\n",
    "plt.ylabel('Count')\n",
    "plt.show()"
   ]
  },
  {
   "cell_type": "code",
   "execution_count": 12,
   "metadata": {},
   "outputs": [
    {
     "name": "stdout",
     "output_type": "stream",
     "text": [
      "count     5171.00000\n",
      "mean      1029.74531\n",
      "std       1505.10317\n",
      "min         10.00000\n",
      "25%        238.00000\n",
      "50%        529.00000\n",
      "75%       1214.00000\n",
      "max      31860.00000\n",
      "Name: message_length, dtype: float64\n"
     ]
    },
    {
     "data": {
      "image/png": "[encoded data removed]",
      "text/plain": [
       "<Figure size 800x600 with 1 Axes>"
      ]
     },
     "metadata": {},
     "output_type": "display_data"
    }
   ],
   "source": [
    "# length of messages\n",
    "df[\"message_length\"] = df[\"text\"].apply(len)\n",
    "print(df[\"message_length\"].describe())\n",
    "\n",
    "plt.figure(figsize=(8, 6))\n",
    "sns.histplot(df[\"message_length\"], bins=50)\n",
    "plt.title(\"Distribution of Message Lengths\")\n",
    "plt.xlabel(\"Message Length\")\n",
    "plt.ylabel(\"Count\")\n",
    "plt.show()"
   ]
  },
  {
   "cell_type": "code",
   "execution_count": 13,
   "metadata": {},
   "outputs": [
    {
     "data": {
      "image/png": "[encoded data removed]",
      "text/plain": [
       "<Figure size 1000x600 with 1 Axes>"
      ]
     },
     "metadata": {},
     "output_type": "display_data"
    }
   ],
   "source": [
    "# Plot the top 20 most common words in spam messages\n",
    "\n",
    "df['label'] = df['label'].map({\"ham\": 0, \"spam\": 1})\n",
    "spam_data = df[df[\"label\"] == 1]\n",
    "spam_text = \" \".join(spam_data[\"text\"])\n",
    "spam_words = spam_text.split()\n",
    "\n",
    "# Create a word frequency distribution for spam messages\n",
    "spam_word_freq = pd.Series(spam_words).value_counts()\n",
    "\n",
    "plt.figure(figsize=(10, 6))\n",
    "sns.barplot(x=spam_word_freq[:20].index, y=spam_word_freq[:20].values)\n",
    "plt.title(\"Top 20 Most Common Words in Spam Messages\")\n",
    "plt.xlabel(\"Word\")\n",
    "plt.ylabel(\"Frequency\")\n",
    "plt.xticks(rotation=45)\n",
    "plt.show()"
   ]
  },
  {
   "cell_type": "code",
   "execution_count": 14,
   "metadata": {},
   "outputs": [
    {
     "data": {
      "image/png": "[encoded data removed]",
      "text/plain": [
       "<Figure size 1000x600 with 1 Axes>"
      ]
     },
     "metadata": {},
     "output_type": "display_data"
    }
   ],
   "source": [
    "ham_data = df[df[\"label\"] == 0]  # Filter rows with label 0, representing ham messages\n",
    "\n",
    "if not ham_data.empty:\n",
    "    ham_text = \" \".join(ham_data[\"text\"])\n",
    "    ham_words = ham_text.split()\n",
    "\n",
    "    # Create a word frequency distribution for ham messages\n",
    "    ham_word_freq = pd.Series(ham_words).value_counts()\n",
    "\n",
    "    # Plot the top 20 most common words in ham messages\n",
    "    plt.figure(figsize=(10, 6))\n",
    "    sns.barplot(x=ham_word_freq[:20].index, y=ham_word_freq[:20].values)\n",
    "    plt.title(\"Top 20 Most Common Words in Ham Messages\")\n",
    "    plt.xlabel(\"Word\")\n",
    "    plt.ylabel(\"Frequency\")\n",
    "    plt.xticks(rotation=45)\n",
    "    plt.show()\n",
    "else:\n",
    "    print(\"No ham messages found.\")"
   ]
  },
  {
   "cell_type": "code",
   "execution_count": 15,
   "metadata": {},
   "outputs": [
    {
     "data": {
      "image/png": "[encoded data removed]",
      "text/plain": [
       "<Figure size 600x800 with 1 Axes>"
      ]
     },
     "metadata": {},
     "output_type": "display_data"
    }
   ],
   "source": [
    "# Pie Chart for spam and ham percentage\n",
    "df['label'].value_counts().plot.pie(explode=[0.05,0.05], autopct='%1.1f%%',  startangle=90,shadow=True, figsize=(6,8))\n",
    "plt.title('Pie Chart for result')\n",
    "plt.show()"
   ]
  },
  {
   "cell_type": "markdown",
   "metadata": {},
   "source": [
    "# **Pre-Processing**"
   ]
  },
  {
   "cell_type": "markdown",
   "metadata": {},
   "source": [
    "**This code selects only the 'label' and 'text' columns from the DataFrame 'df' and assigns the result back to 'df', effectively creating a new DataFrame with only these two columns**"
   ]
  },
  {
   "cell_type": "code",
   "execution_count": 16,
   "metadata": {},
   "outputs": [],
   "source": [
    "df = df[['label','text']]"
   ]
  },
  {
   "cell_type": "markdown",
   "metadata": {},
   "source": [
    "# # Data splitting"
   ]
  },
  {
   "cell_type": "code",
   "execution_count": 17,
   "metadata": {},
   "outputs": [],
   "source": [
    "x = df.drop('label',axis=1)\n",
    "y = df[\"label\"]"
   ]
  },
  {
   "cell_type": "code",
   "execution_count": 18,
   "metadata": {},
   "outputs": [
    {
     "data": {
      "text/html": [
       "<div>\n",
       "<style scoped>\n",
       "    .dataframe tbody tr th:only-of-type {\n",
       "        vertical-align: middle;\n",
       "    }\n",
       "\n",
       "    .dataframe tbody tr th {\n",
       "        vertical-align: top;\n",
       "    }\n",
       "\n",
       "    .dataframe thead th {\n",
       "        text-align: right;\n",
       "    }\n",
       "</style>\n",
       "<table border=\"1\" class=\"dataframe\">\n",
       "  <thead>\n",
       "    <tr style=\"text-align: right;\">\n",
       "      <th></th>\n",
       "      <th>index</th>\n",
       "      <th>text</th>\n",
       "    </tr>\n",
       "  </thead>\n",
       "  <tbody>\n",
       "    <tr>\n",
       "      <th>0</th>\n",
       "      <td>0</td>\n",
       "      <td>Subject: enron methanol ; meter # : 988291\\nth...</td>\n",
       "    </tr>\n",
       "    <tr>\n",
       "      <th>1</th>\n",
       "      <td>1</td>\n",
       "      <td>Subject: hpl nom for january 9 , 2001\\n( see a...</td>\n",
       "    </tr>\n",
       "    <tr>\n",
       "      <th>2</th>\n",
       "      <td>2</td>\n",
       "      <td>Subject: neon retreat\\nho ho ho , we ' re arou...</td>\n",
       "    </tr>\n",
       "    <tr>\n",
       "      <th>3</th>\n",
       "      <td>3</td>\n",
       "      <td>Subject: photoshop , windows , office . cheap ...</td>\n",
       "    </tr>\n",
       "    <tr>\n",
       "      <th>4</th>\n",
       "      <td>4</td>\n",
       "      <td>Subject: re : indian springs\\nthis deal is to ...</td>\n",
       "    </tr>\n",
       "  </tbody>\n",
       "</table>\n",
       "</div>"
      ],
      "text/plain": [
       "   index                                               text\n",
       "0      0  Subject: enron methanol ; meter # : 988291\\nth...\n",
       "1      1  Subject: hpl nom for january 9 , 2001\\n( see a...\n",
       "2      2  Subject: neon retreat\\nho ho ho , we ' re arou...\n",
       "3      3  Subject: photoshop , windows , office . cheap ...\n",
       "4      4  Subject: re : indian springs\\nthis deal is to ..."
      ]
     },
     "execution_count": 18,
     "metadata": {},
     "output_type": "execute_result"
    }
   ],
   "source": [
    "\"\"\" The code \"messages = x.copy()\" creates a shallow copy of the list or dictionary object \"x\" \n",
    "and assigns it to the variable \"messages.\" \n",
    "A shallow copy means that a new object is created, but the elements themselves are not duplicated. \n",
    "Instead, the new object references the same elements as the original object.\"\"\"\n",
    "\n",
    "messages = x.copy()\n",
    "messages.reset_index(inplace=True)\n",
    "messages.head()"
   ]
  },
  {
   "cell_type": "code",
   "execution_count": 19,
   "metadata": {},
   "outputs": [],
   "source": [
    "stop = set(stopwords.words('english'))"
   ]
  },
  {
   "cell_type": "markdown",
   "metadata": {},
   "source": [
    "The given line of code appears to be a Python statement that imports the stopwords module from the nltk library, and then creates a set of English stopwords using the stopwords.words('english') function. A stopword is a common word (e.g., \"the,\" \"is,\" \"and\") that is often removed from text during natural language processing tasks, as it typically doesn't add significant meaning to the context."
   ]
  },
  {
   "cell_type": "code",
   "execution_count": 20,
   "metadata": {},
   "outputs": [],
   "source": [
    "crp = []\n",
    "new = df['text'].str.split()\n",
    "new = new.values.tolist()\n",
    "crp = [word for i in new for word in i]\n",
    "\n",
    "from collections import defaultdict\n",
    "dic=defaultdict(int)\n",
    "\n",
    "for word in crp:\n",
    "    if word in stop:\n",
    "        dic[word]+=1"
   ]
  },
  {
   "cell_type": "markdown",
   "metadata": {},
   "source": [
    "This above code counts the occurrences of stop words in the 'text' column of the DataFrame 'df' and stores the counts in a defaultdict named 'dic'."
   ]
  },
  {
   "cell_type": "code",
   "execution_count": 21,
   "metadata": {},
   "outputs": [],
   "source": [
    "from nltk.stem.porter import PorterStemmer\n",
    "ps = PorterStemmer()\n",
    "clean_text = []\n",
    "for i in range(0,len(messages)):\n",
    "    review = re.sub('[^a-zA-Z]',' ',messages['text'][i])\n",
    "    review = review.lower()\n",
    "    review = review.split()\n",
    "    review = [ps.stem(word) for word in review if not word in stopwords.words('english')]\n",
    "    review = ' '.join(review)\n",
    "    clean_text.append(review)"
   ]
  },
  {
   "cell_type": "markdown",
   "metadata": {},
   "source": [
    "* Porter Stemmer: The code imports the PorterStemmer class from NLTK, which is a popular algorithm used for stemming words in the English language. The stemmer reduces words to their base or root form by removing common suffixes, such as -ing, -ed, -s, etc.\n",
    "\n",
    "* Text Cleaning: The code aims to clean the text data stored in the messages variable. It removes any characters that are not letters (using the regular expression [^a-zA-Z]) and replaces them with spaces. This step ensures that only alphabetic characters remain in the text.\n",
    "\n",
    "* Lowercasing: After removing non-alphabetic characters, the code converts all the remaining text to lowercase. This step is essential for making the text case-insensitive during further processing, such as tokenization and stemming.\n",
    "\n",
    "* Stopwords Removal: The code utilizes the stopwords module from NLTK to remove common English stopwords from each tokenized review. Stopwords are words like \"the,\" \"a,\" \"an,\" \"and,\" etc., which do not carry significant meaning and are often removed to reduce noise in text data.\n",
    "\n",
    "* Stemming and Tokenization: The code then tokenizes each review (splitting the text into individual words) and applies stemming using the Porter Stemmer. For each word in the tokenized review, it checks if the word is not a stopword and then applies stemming to reduce it to its root form."
   ]
  },
  {
   "cell_type": "code",
   "execution_count": 22,
   "metadata": {},
   "outputs": [
    {
     "data": {
      "text/html": [
       "<div>\n",
       "<style scoped>\n",
       "    .dataframe tbody tr th:only-of-type {\n",
       "        vertical-align: middle;\n",
       "    }\n",
       "\n",
       "    .dataframe tbody tr th {\n",
       "        vertical-align: top;\n",
       "    }\n",
       "\n",
       "    .dataframe thead th {\n",
       "        text-align: right;\n",
       "    }\n",
       "</style>\n",
       "<table border=\"1\" class=\"dataframe\">\n",
       "  <thead>\n",
       "    <tr style=\"text-align: right;\">\n",
       "      <th></th>\n",
       "      <th>label</th>\n",
       "      <th>text</th>\n",
       "      <th>clean_text</th>\n",
       "    </tr>\n",
       "  </thead>\n",
       "  <tbody>\n",
       "    <tr>\n",
       "      <th>0</th>\n",
       "      <td>0</td>\n",
       "      <td>Subject: enron methanol ; meter # : 988291\\nth...</td>\n",
       "      <td>subject enron methanol meter follow note gave ...</td>\n",
       "    </tr>\n",
       "    <tr>\n",
       "      <th>1</th>\n",
       "      <td>0</td>\n",
       "      <td>Subject: hpl nom for january 9 , 2001\\n( see a...</td>\n",
       "      <td>subject hpl nom januari see attach file hplnol...</td>\n",
       "    </tr>\n",
       "    <tr>\n",
       "      <th>2</th>\n",
       "      <td>0</td>\n",
       "      <td>Subject: neon retreat\\nho ho ho , we ' re arou...</td>\n",
       "      <td>subject neon retreat ho ho ho around wonder ti...</td>\n",
       "    </tr>\n",
       "    <tr>\n",
       "      <th>3</th>\n",
       "      <td>1</td>\n",
       "      <td>Subject: photoshop , windows , office . cheap ...</td>\n",
       "      <td>subject photoshop window offic cheap main tren...</td>\n",
       "    </tr>\n",
       "    <tr>\n",
       "      <th>4</th>\n",
       "      <td>0</td>\n",
       "      <td>Subject: re : indian springs\\nthis deal is to ...</td>\n",
       "      <td>subject indian spring deal book teco pvr reven...</td>\n",
       "    </tr>\n",
       "  </tbody>\n",
       "</table>\n",
       "</div>"
      ],
      "text/plain": [
       "   label                                               text  \\\n",
       "0      0  Subject: enron methanol ; meter # : 988291\\nth...   \n",
       "1      0  Subject: hpl nom for january 9 , 2001\\n( see a...   \n",
       "2      0  Subject: neon retreat\\nho ho ho , we ' re arou...   \n",
       "3      1  Subject: photoshop , windows , office . cheap ...   \n",
       "4      0  Subject: re : indian springs\\nthis deal is to ...   \n",
       "\n",
       "                                          clean_text  \n",
       "0  subject enron methanol meter follow note gave ...  \n",
       "1  subject hpl nom januari see attach file hplnol...  \n",
       "2  subject neon retreat ho ho ho around wonder ti...  \n",
       "3  subject photoshop window offic cheap main tren...  \n",
       "4  subject indian spring deal book teco pvr reven...  "
      ]
     },
     "execution_count": 22,
     "metadata": {},
     "output_type": "execute_result"
    }
   ],
   "source": [
    "df['clean_text'] = clean_text\n",
    "df.head()"
   ]
  },
  {
   "cell_type": "code",
   "execution_count": 23,
   "metadata": {},
   "outputs": [],
   "source": [
    "x = df['clean_text']\n",
    "y = df['label']"
   ]
  },
  {
   "cell_type": "code",
   "execution_count": 24,
   "metadata": {},
   "outputs": [
    {
     "data": {
      "text/plain": [
       "label\n",
       "0    3672\n",
       "1    1499\n",
       "Name: count, dtype: int64"
      ]
     },
     "execution_count": 24,
     "metadata": {},
     "output_type": "execute_result"
    }
   ],
   "source": [
    "df['label'].value_counts()"
   ]
  },
  {
   "cell_type": "code",
   "execution_count": 25,
   "metadata": {},
   "outputs": [],
   "source": [
    "from sklearn.feature_extraction.text import HashingVectorizer\n",
    "hvectorizer = HashingVectorizer(n_features=10000,norm=None,alternate_sign=False,stop_words='english') \n",
    "x = hvectorizer.fit_transform(x).toarray()"
   ]
  },
  {
   "cell_type": "markdown",
   "metadata": {},
   "source": [
    "The code snippet uses the HashingVectorizer from scikit-learn to convert text data into a fixed-size vector representation. It creates a vectorizer with 10,000 features, disables normalization, uses the original sign for the hash values, and removes English stop words during the vectorization process. The resulting x is a numpy array containing the transformed text data."
   ]
  },
  {
   "cell_type": "code",
   "execution_count": 26,
   "metadata": {},
   "outputs": [],
   "source": [
    "from imblearn.over_sampling import SMOTE\n",
    "sm = SMOTE()\n",
    "a,b = sm.fit_resample(x,y)"
   ]
  },
  {
   "cell_type": "markdown",
   "metadata": {},
   "source": [
    "The next two lines perform oversampling using SMOTE (Synthetic Minority Over-sampling Technique) on the input data x and corresponding labels y, and store the resampled data and labels in variables a and b, respectively. SMOTE is a popular technique used to address class imbalance in machine learning datasets by generating synthetic samples for the minority class to balance the class distribution."
   ]
  },
  {
   "cell_type": "code",
   "execution_count": 27,
   "metadata": {},
   "outputs": [
    {
     "data": {
      "text/plain": [
       "(7344, 10000)"
      ]
     },
     "execution_count": 27,
     "metadata": {},
     "output_type": "execute_result"
    }
   ],
   "source": [
    "a.shape"
   ]
  },
  {
   "cell_type": "code",
   "execution_count": 28,
   "metadata": {},
   "outputs": [
    {
     "data": {
      "text/plain": [
       "(7344,)"
      ]
     },
     "execution_count": 28,
     "metadata": {},
     "output_type": "execute_result"
    }
   ],
   "source": [
    "b.shape"
   ]
  },
  {
   "cell_type": "code",
   "execution_count": 29,
   "metadata": {},
   "outputs": [
    {
     "data": {
      "text/plain": [
       "label\n",
       "0    3672\n",
       "1    3672\n",
       "Name: count, dtype: int64"
      ]
     },
     "execution_count": 29,
     "metadata": {},
     "output_type": "execute_result"
    }
   ],
   "source": [
    "b.value_counts()"
   ]
  },
  {
   "cell_type": "code",
   "execution_count": 30,
   "metadata": {},
   "outputs": [
    {
     "data": {
      "image/png": "[encoded data removed]",
      "text/plain": [
       "<Figure size 1000x500 with 1 Axes>"
      ]
     },
     "metadata": {},
     "output_type": "display_data"
    },
    {
     "data": {
      "image/png": "[encoded data removed]",
      "text/plain": [
       "<Figure size 1000x500 with 1 Axes>"
      ]
     },
     "metadata": {},
     "output_type": "display_data"
    }
   ],
   "source": [
    "# plot the pie plot for the y before and after applying the smote technique\n",
    "plt.figure(figsize=(10,5))\n",
    "y.value_counts().plot.pie(autopct='%1.1f%%')\n",
    "plt.show()\n",
    "plt.figure(figsize=(10,5))\n",
    "b.value_counts().plot.pie(autopct='%1.1f%%')\n",
    "plt.show()"
   ]
  },
  {
   "cell_type": "code",
   "execution_count": 31,
   "metadata": {},
   "outputs": [],
   "source": [
    "from sklearn.model_selection import train_test_split\n",
    "x_train, x_test, y_train, y_test = train_test_split(a,b, test_size=0.3, random_state=42)"
   ]
  },
  {
   "cell_type": "markdown",
   "metadata": {},
   "source": [
    "The above code snippet uses the train_test_split function from the sklearn.model_selection module to split the data a and b into training and testing sets. The split ratio is 70% for training and 30% for testing, and a random state of 42 is set to ensure reproducibility."
   ]
  },
  {
   "cell_type": "markdown",
   "metadata": {},
   "source": [
    "# # Algorithm implementation"
   ]
  },
  {
   "cell_type": "code",
   "execution_count": 32,
   "metadata": {},
   "outputs": [],
   "source": [
    "from sklearn.metrics import accuracy_score,precision_score,recall_score,f1_score,roc_auc_score,roc_curve,classification_report,confusion_matrix\n",
    "from tabulate import tabulate\n",
    "import numpy as np\n",
    "import time\n",
    "import matplotlib.pyplot as plt\n",
    "import joblib"
   ]
  },
  {
   "cell_type": "markdown",
   "metadata": {},
   "source": [
    "## **RandomForestClassifier**"
   ]
  },
  {
   "cell_type": "code",
   "execution_count": 33,
   "metadata": {},
   "outputs": [
    {
     "name": "stdout",
     "output_type": "stream",
     "text": [
      "Random Forest Classifier Results:\n",
      "+----------------------+---------+\n",
      "| Metrics              |   Value |\n",
      "+======================+=========+\n",
      "| Accuracy             | 97.2323 |\n",
      "+----------------------+---------+\n",
      "| Precision            | 97.2719 |\n",
      "+----------------------+---------+\n",
      "| Recall               | 96.9981 |\n",
      "+----------------------+---------+\n",
      "| F1_score             | 97.1348 |\n",
      "+----------------------+---------+\n",
      "| ROC_AUC              | 99.6363 |\n",
      "+----------------------+---------+\n",
      "| Time Taken (seconds) | 18.8545 |\n",
      "+----------------------+---------+\n",
      "\n",
      "Classification report for Random Forest:\n",
      "               precision    recall  f1-score   support\n",
      "\n",
      "           0       0.97      0.97      0.97      1138\n",
      "           1       0.97      0.97      0.97      1066\n",
      "\n",
      "    accuracy                           0.97      2204\n",
      "   macro avg       0.97      0.97      0.97      2204\n",
      "weighted avg       0.97      0.97      0.97      2204\n",
      "\n"
     ]
    },
    {
     "data": {
      "text/plain": [
       "['Models/random_forest.joblib']"
      ]
     },
     "execution_count": 33,
     "metadata": {},
     "output_type": "execute_result"
    },
    {
     "data": {
      "image/png": "[encoded data removed]",
      "text/plain": [
       "<Figure size 1000x500 with 2 Axes>"
      ]
     },
     "metadata": {},
     "output_type": "display_data"
    }
   ],
   "source": [
    "# Initialize Random Forest model\n",
    "from sklearn.ensemble import RandomForestClassifier\n",
    "rfc = RandomForestClassifier(random_state=42)\n",
    "\n",
    "# model training\n",
    "start_time = time.time()\n",
    "rfc.fit(x_train, y_train)\n",
    "\n",
    "# model testing\n",
    "y_pred_rfc = rfc.predict(x_test)\n",
    "end_time = time.time()\n",
    "\n",
    "# Evaluation metrics\n",
    "acc_rfc = accuracy_score(y_test, y_pred_rfc) * 100\n",
    "pre_rfc = precision_score(y_test, y_pred_rfc) * 100\n",
    "recall_rfc = recall_score(y_test, y_pred_rfc) * 100\n",
    "f1_rfc = f1_score(y_test, y_pred_rfc) * 100\n",
    "roc_auc_rfc = roc_auc_score(y_test, rfc.predict_proba(x_test)[:, 1]) * 100\n",
    "report_rfc = classification_report(y_test, y_pred_rfc)\n",
    "\n",
    "# Calculate time taken for training and prediction\n",
    "execution_time_rfc = end_time - start_time\n",
    "\n",
    "# Store results in a dictionary for Random Forest\n",
    "results_rfc = {\n",
    "    'Accuracy': acc_rfc,\n",
    "    'Precision': pre_rfc,\n",
    "    'Recall': recall_rfc,\n",
    "    'F1_score': f1_rfc,\n",
    "    'ROC_AUC': roc_auc_rfc,\n",
    "    'Time Taken (seconds)': execution_time_rfc\n",
    "}\n",
    "\n",
    "# Display results in a table for Random Forest\n",
    "print(\"Random Forest Classifier Results:\")\n",
    "print(tabulate(results_rfc.items(), headers=[\"Metrics\", \"Value\"], tablefmt=\"grid\"))\n",
    "print('\\nClassification report for Random Forest:\\n', report_rfc)\n",
    "\n",
    "\n",
    "# plot the confusion matrix\n",
    "plt.figure(figsize=(10,5))\n",
    "sns.heatmap(confusion_matrix(y_test,y_pred_rfc),annot=True,fmt='0.2f',annot_kws={'size':10})\n",
    "\n",
    "# Save the model to a file\n",
    "joblib.dump(rfc, 'Models/random_forest.joblib')"
   ]
  },
  {
   "cell_type": "markdown",
   "metadata": {},
   "source": [
    "## **Support Vector Classification**"
   ]
  },
  {
   "cell_type": "code",
   "execution_count": 34,
   "metadata": {},
   "outputs": [
    {
     "name": "stdout",
     "output_type": "stream",
     "text": [
      "\n",
      "Support Vector Classifier (SVC) Results:\n",
      "+----------------------+----------+\n",
      "| Metrics              |    Value |\n",
      "+======================+==========+\n",
      "| Accuracy             |  93.8748 |\n",
      "+----------------------+----------+\n",
      "| Precision            |  89.2165 |\n",
      "+----------------------+----------+\n",
      "| Recall               |  99.3433 |\n",
      "+----------------------+----------+\n",
      "| F1_score             |  94.008  |\n",
      "+----------------------+----------+\n",
      "| ROC_AUC              |  99.4308 |\n",
      "+----------------------+----------+\n",
      "| Time Taken (seconds) | 114.838  |\n",
      "+----------------------+----------+\n",
      "\n",
      "Classification report for SVC:\n",
      "               precision    recall  f1-score   support\n",
      "\n",
      "           0       0.99      0.89      0.94      1138\n",
      "           1       0.89      0.99      0.94      1066\n",
      "\n",
      "    accuracy                           0.94      2204\n",
      "   macro avg       0.94      0.94      0.94      2204\n",
      "weighted avg       0.94      0.94      0.94      2204\n",
      "\n"
     ]
    },
    {
     "data": {
      "text/plain": [
       "['Models/svc.joblib']"
      ]
     },
     "execution_count": 34,
     "metadata": {},
     "output_type": "execute_result"
    },
    {
     "data": {
      "image/png": "[encoded data removed]",
      "text/plain": [
       "<Figure size 1000x500 with 2 Axes>"
      ]
     },
     "metadata": {},
     "output_type": "display_data"
    }
   ],
   "source": [
    "# Initialize Support Vector Classifier\n",
    "from sklearn.svm import SVC\n",
    "svc = SVC(random_state=42)\n",
    "\n",
    "# Model training\n",
    "start_time_svc = time.time()\n",
    "svc.fit(x_train, y_train)\n",
    "\n",
    "# Model testing\n",
    "y_pred_svc = svc.predict(x_test)\n",
    "end_time_svc = time.time()\n",
    "\n",
    "# Evaluation metrics\n",
    "acc_svc1 = accuracy_score(y_test, y_pred_svc) * 100\n",
    "pre_svc1 = precision_score(y_test, y_pred_svc) * 100\n",
    "recall_svc1 = recall_score(y_test, y_pred_svc) * 100\n",
    "f1_svc1 = f1_score(y_test, y_pred_svc) * 100\n",
    "roc_auc_svc = roc_auc_score(y_test, svc.decision_function(x_test)) * 100\n",
    "report_svc = classification_report(y_test, y_pred_svc)\n",
    "\n",
    "# Calculate time taken for training and prediction for SVC\n",
    "execution_time_svc = end_time_svc - start_time_svc\n",
    "\n",
    "# Store results in a dictionary for SVC\n",
    "results_svc = {\n",
    "    'Accuracy': acc_svc1,\n",
    "    'Precision': pre_svc1,\n",
    "    'Recall': recall_svc1,\n",
    "    'F1_score': f1_svc1,\n",
    "    'ROC_AUC': roc_auc_svc,\n",
    "    'Time Taken (seconds)': execution_time_svc\n",
    "}\n",
    "\n",
    "# Display results in a table for SVC\n",
    "print(\"\\nSupport Vector Classifier (SVC) Results:\")\n",
    "print(tabulate(results_svc.items(), headers=[\"Metrics\", \"Value\"], tablefmt=\"grid\"))\n",
    "print('\\nClassification report for SVC:\\n', report_svc)\n",
    "\n",
    "# plot the confusion matrix\n",
    "plt.figure(figsize=(10,5))\n",
    "sns.heatmap(confusion_matrix(y_test,y_pred_svc),annot=True,fmt='0.2f',annot_kws={'size':10})\n",
    "\n",
    "# Save the model to a file\n",
    "joblib.dump(svc, 'Models/svc.joblib')"
   ]
  },
  {
   "cell_type": "markdown",
   "metadata": {},
   "source": [
    "## **Multinomial Naive Bayes**"
   ]
  },
  {
   "cell_type": "code",
   "execution_count": 35,
   "metadata": {},
   "outputs": [
    {
     "name": "stdout",
     "output_type": "stream",
     "text": [
      "Naive Bayes Classifier Results:\n",
      "+----------------------+-----------+\n",
      "| Metrics              |     Value |\n",
      "+======================+===========+\n",
      "| Accuracy             | 95.4174   |\n",
      "+----------------------+-----------+\n",
      "| Precision            | 94.7173   |\n",
      "+----------------------+-----------+\n",
      "| Recall               | 95.8724   |\n",
      "+----------------------+-----------+\n",
      "| F1_score             | 95.2914   |\n",
      "+----------------------+-----------+\n",
      "| ROC_AUC              | 98.2823   |\n",
      "+----------------------+-----------+\n",
      "| Time Taken (seconds) |  0.218992 |\n",
      "+----------------------+-----------+\n",
      "\n",
      "Classification report for Naive Bayes:\n",
      "               precision    recall  f1-score   support\n",
      "\n",
      "           0       0.96      0.95      0.96      1138\n",
      "           1       0.95      0.96      0.95      1066\n",
      "\n",
      "    accuracy                           0.95      2204\n",
      "   macro avg       0.95      0.95      0.95      2204\n",
      "weighted avg       0.95      0.95      0.95      2204\n",
      "\n"
     ]
    },
    {
     "data": {
      "text/plain": [
       "['Models/MultinomialNB.joblib']"
      ]
     },
     "execution_count": 35,
     "metadata": {},
     "output_type": "execute_result"
    },
    {
     "data": {
      "image/png": "[encoded data removed]",
      "text/plain": [
       "<Figure size 1000x500 with 2 Axes>"
      ]
     },
     "metadata": {},
     "output_type": "display_data"
    }
   ],
   "source": [
    "# Initialize and train the Naive Bayes model\n",
    "from sklearn.naive_bayes import MultinomialNB\n",
    "nb = MultinomialNB()\n",
    "\n",
    "# Model training\n",
    "start_time = time.time()\n",
    "nb.fit(x_train, y_train)\n",
    "\n",
    "# Model testing\n",
    "y_pred_nb = nb.predict(x_test)\n",
    "end_time = time.time()\n",
    "\n",
    "# Evaluation metrics\n",
    "acc_nb = accuracy_score(y_test, y_pred_nb) * 100\n",
    "pre_nb = precision_score(y_test, y_pred_nb) * 100\n",
    "recall_nb = recall_score(y_test, y_pred_nb) * 100\n",
    "f1_nb = f1_score(y_test, y_pred_nb) * 100\n",
    "roc_auc_nb = roc_auc_score(y_test, nb.predict_proba(x_test)[:, 1]) * 100\n",
    "report_nb = classification_report(y_test, y_pred_nb)\n",
    "\n",
    "# Calculate time taken for training and prediction\n",
    "execution_time_nb = end_time - start_time\n",
    "\n",
    "# Store results in a dictionary for Naive Bayes\n",
    "results_nb = {\n",
    "    'Accuracy': acc_nb,\n",
    "    'Precision': pre_nb,\n",
    "    'Recall': recall_nb,\n",
    "    'F1_score': f1_nb,\n",
    "    'ROC_AUC': roc_auc_nb,\n",
    "    'Time Taken (seconds)': execution_time_nb\n",
    "}\n",
    "\n",
    "# Display results in a table for Naive Bayes\n",
    "print(\"Naive Bayes Classifier Results:\")\n",
    "print(tabulate(results_nb.items(), headers=[\"Metrics\", \"Value\"], tablefmt=\"grid\"))\n",
    "print('\\nClassification report for Naive Bayes:\\n', report_nb)\n",
    "\n",
    "# plot the confusion matrix\n",
    "plt.figure(figsize=(10,5))\n",
    "sns.heatmap(confusion_matrix(y_test,y_pred_nb),annot=True,fmt='0.2f',annot_kws={'size':10})\n",
    "\n",
    "# Save the model to a file\n",
    "joblib.dump(nb, 'Models/MultinomialNB.joblib')"
   ]
  },
  {
   "cell_type": "markdown",
   "metadata": {},
   "source": [
    "## **CatBoostClassifier**"
   ]
  },
  {
   "cell_type": "code",
   "execution_count": 36,
   "metadata": {},
   "outputs": [
    {
     "name": "stderr",
     "output_type": "stream",
     "text": [
      "<frozen importlib._bootstrap>:241: RuntimeWarning: numpy.ufunc size changed, may indicate binary incompatibility. Expected 216 from C header, got 232 from PyObject\n"
     ]
    },
    {
     "name": "stdout",
     "output_type": "stream",
     "text": [
      "Learning rate set to 0.020726\n",
      "0:\tlearn: 0.6716038\ttotal: 403ms\tremaining: 6m 42s\n",
      "1:\tlearn: 0.6516375\ttotal: 571ms\tremaining: 4m 44s\n",
      "2:\tlearn: 0.6346559\ttotal: 750ms\tremaining: 4m 9s\n",
      "3:\tlearn: 0.6181218\ttotal: 879ms\tremaining: 3m 38s\n",
      "4:\tlearn: 0.6008756\ttotal: 1.13s\tremaining: 3m 44s\n",
      "5:\tlearn: 0.5861966\ttotal: 1.28s\tremaining: 3m 31s\n",
      "6:\tlearn: 0.5718795\ttotal: 1.41s\tremaining: 3m 19s\n",
      "7:\tlearn: 0.5571358\ttotal: 1.55s\tremaining: 3m 11s\n",
      "8:\tlearn: 0.5434965\ttotal: 1.68s\tremaining: 3m 5s\n",
      "9:\tlearn: 0.5310329\ttotal: 1.82s\tremaining: 3m\n",
      "10:\tlearn: 0.5195426\ttotal: 2s\tremaining: 3m\n",
      "11:\tlearn: 0.5085402\ttotal: 2.16s\tremaining: 2m 58s\n",
      "12:\tlearn: 0.4967862\ttotal: 2.33s\tremaining: 2m 56s\n",
      "13:\tlearn: 0.4861297\ttotal: 2.5s\tremaining: 2m 56s\n",
      "14:\tlearn: 0.4752645\ttotal: 2.66s\tremaining: 2m 54s\n",
      "15:\tlearn: 0.4651601\ttotal: 2.8s\tremaining: 2m 52s\n",
      "16:\tlearn: 0.4560174\ttotal: 2.95s\tremaining: 2m 50s\n",
      "17:\tlearn: 0.4472367\ttotal: 3.12s\tremaining: 2m 50s\n",
      "18:\tlearn: 0.4369386\ttotal: 3.27s\tremaining: 2m 48s\n",
      "19:\tlearn: 0.4294293\ttotal: 3.4s\tremaining: 2m 46s\n",
      "20:\tlearn: 0.4226474\ttotal: 3.55s\tremaining: 2m 45s\n",
      "21:\tlearn: 0.4158445\ttotal: 3.71s\tremaining: 2m 44s\n",
      "22:\tlearn: 0.4106822\ttotal: 3.85s\tremaining: 2m 43s\n",
      "23:\tlearn: 0.4045824\ttotal: 4.01s\tremaining: 2m 43s\n",
      "24:\tlearn: 0.3978014\ttotal: 4.17s\tremaining: 2m 42s\n",
      "25:\tlearn: 0.3906950\ttotal: 4.32s\tremaining: 2m 41s\n",
      "26:\tlearn: 0.3844692\ttotal: 4.45s\tremaining: 2m 40s\n",
      "27:\tlearn: 0.3787020\ttotal: 4.59s\tremaining: 2m 39s\n",
      "28:\tlearn: 0.3739738\ttotal: 4.72s\tremaining: 2m 38s\n",
      "29:\tlearn: 0.3690608\ttotal: 4.86s\tremaining: 2m 37s\n",
      "30:\tlearn: 0.3640338\ttotal: 5s\tremaining: 2m 36s\n",
      "31:\tlearn: 0.3579998\ttotal: 5.12s\tremaining: 2m 35s\n",
      "32:\tlearn: 0.3532629\ttotal: 5.25s\tremaining: 2m 34s\n",
      "33:\tlearn: 0.3485455\ttotal: 5.39s\tremaining: 2m 33s\n",
      "34:\tlearn: 0.3440070\ttotal: 5.55s\tremaining: 2m 32s\n",
      "35:\tlearn: 0.3401437\ttotal: 5.68s\tremaining: 2m 32s\n",
      "36:\tlearn: 0.3360769\ttotal: 5.81s\tremaining: 2m 31s\n",
      "37:\tlearn: 0.3308883\ttotal: 5.96s\tremaining: 2m 30s\n",
      "38:\tlearn: 0.3269923\ttotal: 6.09s\tremaining: 2m 30s\n",
      "39:\tlearn: 0.3236750\ttotal: 6.22s\tremaining: 2m 29s\n",
      "40:\tlearn: 0.3200432\ttotal: 6.35s\tremaining: 2m 28s\n",
      "41:\tlearn: 0.3166449\ttotal: 6.48s\tremaining: 2m 27s\n",
      "42:\tlearn: 0.3132094\ttotal: 6.61s\tremaining: 2m 27s\n",
      "43:\tlearn: 0.3098884\ttotal: 6.75s\tremaining: 2m 26s\n",
      "44:\tlearn: 0.3066817\ttotal: 6.92s\tremaining: 2m 26s\n",
      "45:\tlearn: 0.3030824\ttotal: 7.04s\tremaining: 2m 26s\n",
      "46:\tlearn: 0.2998054\ttotal: 7.18s\tremaining: 2m 25s\n",
      "47:\tlearn: 0.2968976\ttotal: 7.31s\tremaining: 2m 24s\n",
      "48:\tlearn: 0.2938426\ttotal: 7.44s\tremaining: 2m 24s\n",
      "49:\tlearn: 0.2910641\ttotal: 7.57s\tremaining: 2m 23s\n",
      "50:\tlearn: 0.2882061\ttotal: 7.7s\tremaining: 2m 23s\n",
      "51:\tlearn: 0.2850376\ttotal: 7.83s\tremaining: 2m 22s\n",
      "52:\tlearn: 0.2824860\ttotal: 7.96s\tremaining: 2m 22s\n",
      "53:\tlearn: 0.2795119\ttotal: 8.09s\tremaining: 2m 21s\n",
      "54:\tlearn: 0.2768159\ttotal: 8.23s\tremaining: 2m 21s\n",
      "55:\tlearn: 0.2743731\ttotal: 8.38s\tremaining: 2m 21s\n",
      "56:\tlearn: 0.2721655\ttotal: 8.54s\tremaining: 2m 21s\n",
      "57:\tlearn: 0.2701723\ttotal: 8.68s\tremaining: 2m 20s\n",
      "58:\tlearn: 0.2682725\ttotal: 8.81s\tremaining: 2m 20s\n",
      "59:\tlearn: 0.2665623\ttotal: 8.95s\tremaining: 2m 20s\n",
      "60:\tlearn: 0.2644558\ttotal: 9.07s\tremaining: 2m 19s\n",
      "61:\tlearn: 0.2625752\ttotal: 9.21s\tremaining: 2m 19s\n",
      "62:\tlearn: 0.2607997\ttotal: 9.34s\tremaining: 2m 18s\n",
      "63:\tlearn: 0.2585865\ttotal: 9.47s\tremaining: 2m 18s\n",
      "64:\tlearn: 0.2564284\ttotal: 9.61s\tremaining: 2m 18s\n",
      "65:\tlearn: 0.2547260\ttotal: 9.74s\tremaining: 2m 17s\n",
      "66:\tlearn: 0.2531399\ttotal: 9.88s\tremaining: 2m 17s\n",
      "67:\tlearn: 0.2512667\ttotal: 10s\tremaining: 2m 17s\n",
      "68:\tlearn: 0.2497411\ttotal: 10.2s\tremaining: 2m 17s\n",
      "69:\tlearn: 0.2482563\ttotal: 10.3s\tremaining: 2m 16s\n",
      "70:\tlearn: 0.2466035\ttotal: 10.4s\tremaining: 2m 16s\n",
      "71:\tlearn: 0.2449551\ttotal: 10.6s\tremaining: 2m 16s\n",
      "72:\tlearn: 0.2437304\ttotal: 10.7s\tremaining: 2m 15s\n",
      "73:\tlearn: 0.2425266\ttotal: 10.8s\tremaining: 2m 15s\n",
      "74:\tlearn: 0.2412508\ttotal: 11s\tremaining: 2m 15s\n",
      "75:\tlearn: 0.2397057\ttotal: 11.1s\tremaining: 2m 14s\n",
      "76:\tlearn: 0.2386191\ttotal: 11.2s\tremaining: 2m 14s\n",
      "77:\tlearn: 0.2374719\ttotal: 11.4s\tremaining: 2m 14s\n",
      "78:\tlearn: 0.2359026\ttotal: 11.5s\tremaining: 2m 14s\n",
      "79:\tlearn: 0.2341554\ttotal: 11.6s\tremaining: 2m 13s\n",
      "80:\tlearn: 0.2324600\ttotal: 11.8s\tremaining: 2m 13s\n",
      "81:\tlearn: 0.2311509\ttotal: 11.9s\tremaining: 2m 13s\n",
      "82:\tlearn: 0.2299871\ttotal: 12.1s\tremaining: 2m 13s\n",
      "83:\tlearn: 0.2286430\ttotal: 12.2s\tremaining: 2m 13s\n",
      "84:\tlearn: 0.2271721\ttotal: 12.3s\tremaining: 2m 12s\n",
      "85:\tlearn: 0.2259728\ttotal: 12.5s\tremaining: 2m 12s\n",
      "86:\tlearn: 0.2250710\ttotal: 12.6s\tremaining: 2m 12s\n",
      "87:\tlearn: 0.2238831\ttotal: 12.8s\tremaining: 2m 12s\n",
      "88:\tlearn: 0.2228433\ttotal: 12.9s\tremaining: 2m 12s\n",
      "89:\tlearn: 0.2217919\ttotal: 13s\tremaining: 2m 11s\n",
      "90:\tlearn: 0.2206071\ttotal: 13.2s\tremaining: 2m 11s\n",
      "91:\tlearn: 0.2194086\ttotal: 13.3s\tremaining: 2m 11s\n",
      "92:\tlearn: 0.2185036\ttotal: 13.5s\tremaining: 2m 11s\n",
      "93:\tlearn: 0.2170833\ttotal: 13.6s\tremaining: 2m 11s\n",
      "94:\tlearn: 0.2161262\ttotal: 13.8s\tremaining: 2m 11s\n",
      "95:\tlearn: 0.2153181\ttotal: 13.9s\tremaining: 2m 11s\n",
      "96:\tlearn: 0.2141324\ttotal: 14.1s\tremaining: 2m 11s\n",
      "97:\tlearn: 0.2129695\ttotal: 14.3s\tremaining: 2m 11s\n",
      "98:\tlearn: 0.2119926\ttotal: 14.4s\tremaining: 2m 11s\n",
      "99:\tlearn: 0.2111854\ttotal: 14.5s\tremaining: 2m 10s\n",
      "100:\tlearn: 0.2100397\ttotal: 14.7s\tremaining: 2m 10s\n",
      "101:\tlearn: 0.2091719\ttotal: 14.8s\tremaining: 2m 10s\n",
      "102:\tlearn: 0.2083435\ttotal: 15s\tremaining: 2m 10s\n",
      "103:\tlearn: 0.2073411\ttotal: 15.1s\tremaining: 2m 10s\n",
      "104:\tlearn: 0.2063787\ttotal: 15.2s\tremaining: 2m 9s\n",
      "105:\tlearn: 0.2054111\ttotal: 15.4s\tremaining: 2m 9s\n",
      "106:\tlearn: 0.2046267\ttotal: 15.5s\tremaining: 2m 9s\n",
      "107:\tlearn: 0.2035542\ttotal: 15.7s\tremaining: 2m 9s\n",
      "108:\tlearn: 0.2024966\ttotal: 15.8s\tremaining: 2m 9s\n",
      "109:\tlearn: 0.2014638\ttotal: 15.9s\tremaining: 2m 8s\n",
      "110:\tlearn: 0.2006462\ttotal: 16.1s\tremaining: 2m 8s\n",
      "111:\tlearn: 0.2000154\ttotal: 16.2s\tremaining: 2m 8s\n",
      "112:\tlearn: 0.1993437\ttotal: 16.3s\tremaining: 2m 8s\n",
      "113:\tlearn: 0.1983333\ttotal: 16.4s\tremaining: 2m 7s\n",
      "114:\tlearn: 0.1977157\ttotal: 16.6s\tremaining: 2m 7s\n",
      "115:\tlearn: 0.1968338\ttotal: 16.7s\tremaining: 2m 7s\n",
      "116:\tlearn: 0.1961910\ttotal: 16.8s\tremaining: 2m 7s\n",
      "117:\tlearn: 0.1955394\ttotal: 17s\tremaining: 2m 6s\n",
      "118:\tlearn: 0.1948549\ttotal: 17.1s\tremaining: 2m 6s\n",
      "119:\tlearn: 0.1939506\ttotal: 17.2s\tremaining: 2m 6s\n",
      "120:\tlearn: 0.1934026\ttotal: 17.4s\tremaining: 2m 6s\n",
      "121:\tlearn: 0.1927643\ttotal: 17.5s\tremaining: 2m 5s\n",
      "122:\tlearn: 0.1919863\ttotal: 17.6s\tremaining: 2m 5s\n",
      "123:\tlearn: 0.1911859\ttotal: 17.8s\tremaining: 2m 5s\n",
      "124:\tlearn: 0.1903527\ttotal: 17.9s\tremaining: 2m 5s\n",
      "125:\tlearn: 0.1897781\ttotal: 18s\tremaining: 2m 5s\n",
      "126:\tlearn: 0.1893418\ttotal: 18.2s\tremaining: 2m 5s\n",
      "127:\tlearn: 0.1887383\ttotal: 18.3s\tremaining: 2m 4s\n",
      "128:\tlearn: 0.1881523\ttotal: 18.4s\tremaining: 2m 4s\n",
      "129:\tlearn: 0.1874950\ttotal: 18.6s\tremaining: 2m 4s\n",
      "130:\tlearn: 0.1870192\ttotal: 18.7s\tremaining: 2m 4s\n",
      "131:\tlearn: 0.1863922\ttotal: 18.8s\tremaining: 2m 3s\n",
      "132:\tlearn: 0.1857617\ttotal: 19s\tremaining: 2m 3s\n",
      "133:\tlearn: 0.1850564\ttotal: 19.1s\tremaining: 2m 3s\n",
      "134:\tlearn: 0.1846415\ttotal: 19.3s\tremaining: 2m 3s\n",
      "135:\tlearn: 0.1841086\ttotal: 19.4s\tremaining: 2m 3s\n",
      "136:\tlearn: 0.1834462\ttotal: 19.5s\tremaining: 2m 3s\n",
      "137:\tlearn: 0.1827432\ttotal: 19.7s\tremaining: 2m 2s\n",
      "138:\tlearn: 0.1820601\ttotal: 19.8s\tremaining: 2m 2s\n",
      "139:\tlearn: 0.1812806\ttotal: 20s\tremaining: 2m 2s\n",
      "140:\tlearn: 0.1804186\ttotal: 20.1s\tremaining: 2m 2s\n",
      "141:\tlearn: 0.1799679\ttotal: 20.2s\tremaining: 2m 2s\n",
      "142:\tlearn: 0.1793590\ttotal: 20.3s\tremaining: 2m 1s\n",
      "143:\tlearn: 0.1788408\ttotal: 20.5s\tremaining: 2m 1s\n",
      "144:\tlearn: 0.1782968\ttotal: 20.6s\tremaining: 2m 1s\n",
      "145:\tlearn: 0.1777124\ttotal: 20.7s\tremaining: 2m 1s\n",
      "146:\tlearn: 0.1773067\ttotal: 20.9s\tremaining: 2m 1s\n",
      "147:\tlearn: 0.1767697\ttotal: 21s\tremaining: 2m 1s\n",
      "148:\tlearn: 0.1762996\ttotal: 21.2s\tremaining: 2m\n",
      "149:\tlearn: 0.1755032\ttotal: 21.3s\tremaining: 2m\n",
      "150:\tlearn: 0.1751837\ttotal: 21.4s\tremaining: 2m\n",
      "151:\tlearn: 0.1747805\ttotal: 21.6s\tremaining: 2m\n",
      "152:\tlearn: 0.1741045\ttotal: 21.7s\tremaining: 2m\n",
      "153:\tlearn: 0.1735871\ttotal: 21.8s\tremaining: 1m 59s\n",
      "154:\tlearn: 0.1732349\ttotal: 22s\tremaining: 1m 59s\n",
      "155:\tlearn: 0.1725860\ttotal: 22.1s\tremaining: 1m 59s\n",
      "156:\tlearn: 0.1718536\ttotal: 22.3s\tremaining: 1m 59s\n",
      "157:\tlearn: 0.1712823\ttotal: 22.4s\tremaining: 1m 59s\n",
      "158:\tlearn: 0.1710032\ttotal: 22.6s\tremaining: 1m 59s\n",
      "159:\tlearn: 0.1703935\ttotal: 22.7s\tremaining: 1m 59s\n",
      "160:\tlearn: 0.1696877\ttotal: 22.8s\tremaining: 1m 58s\n",
      "161:\tlearn: 0.1691381\ttotal: 23s\tremaining: 1m 58s\n",
      "162:\tlearn: 0.1686809\ttotal: 23.1s\tremaining: 1m 58s\n",
      "163:\tlearn: 0.1682134\ttotal: 23.2s\tremaining: 1m 58s\n",
      "164:\tlearn: 0.1677766\ttotal: 23.4s\tremaining: 1m 58s\n",
      "165:\tlearn: 0.1672682\ttotal: 23.5s\tremaining: 1m 58s\n",
      "166:\tlearn: 0.1668039\ttotal: 23.7s\tremaining: 1m 58s\n",
      "167:\tlearn: 0.1663575\ttotal: 23.8s\tremaining: 1m 57s\n",
      "168:\tlearn: 0.1659544\ttotal: 23.9s\tremaining: 1m 57s\n",
      "169:\tlearn: 0.1657162\ttotal: 24.1s\tremaining: 1m 57s\n",
      "170:\tlearn: 0.1653774\ttotal: 24.2s\tremaining: 1m 57s\n",
      "171:\tlearn: 0.1648382\ttotal: 24.4s\tremaining: 1m 57s\n",
      "172:\tlearn: 0.1644444\ttotal: 24.5s\tremaining: 1m 57s\n",
      "173:\tlearn: 0.1639690\ttotal: 24.6s\tremaining: 1m 56s\n",
      "174:\tlearn: 0.1636661\ttotal: 24.8s\tremaining: 1m 56s\n",
      "175:\tlearn: 0.1631671\ttotal: 24.9s\tremaining: 1m 56s\n",
      "176:\tlearn: 0.1626342\ttotal: 25s\tremaining: 1m 56s\n",
      "177:\tlearn: 0.1624313\ttotal: 25.2s\tremaining: 1m 56s\n",
      "178:\tlearn: 0.1620601\ttotal: 25.3s\tremaining: 1m 56s\n",
      "179:\tlearn: 0.1616394\ttotal: 25.5s\tremaining: 1m 55s\n",
      "180:\tlearn: 0.1611219\ttotal: 25.6s\tremaining: 1m 55s\n",
      "181:\tlearn: 0.1608450\ttotal: 25.8s\tremaining: 1m 55s\n",
      "182:\tlearn: 0.1602881\ttotal: 25.9s\tremaining: 1m 55s\n",
      "183:\tlearn: 0.1597241\ttotal: 26s\tremaining: 1m 55s\n",
      "184:\tlearn: 0.1593431\ttotal: 26.2s\tremaining: 1m 55s\n",
      "185:\tlearn: 0.1590635\ttotal: 26.3s\tremaining: 1m 55s\n",
      "186:\tlearn: 0.1588397\ttotal: 26.5s\tremaining: 1m 55s\n",
      "187:\tlearn: 0.1586153\ttotal: 26.6s\tremaining: 1m 54s\n",
      "188:\tlearn: 0.1583870\ttotal: 26.7s\tremaining: 1m 54s\n",
      "189:\tlearn: 0.1581625\ttotal: 26.9s\tremaining: 1m 54s\n",
      "190:\tlearn: 0.1577168\ttotal: 27s\tremaining: 1m 54s\n",
      "191:\tlearn: 0.1573633\ttotal: 27.2s\tremaining: 1m 54s\n",
      "192:\tlearn: 0.1572070\ttotal: 27.3s\tremaining: 1m 54s\n",
      "193:\tlearn: 0.1569702\ttotal: 27.4s\tremaining: 1m 54s\n",
      "194:\tlearn: 0.1564445\ttotal: 27.6s\tremaining: 1m 53s\n",
      "195:\tlearn: 0.1562510\ttotal: 27.7s\tremaining: 1m 53s\n",
      "196:\tlearn: 0.1559550\ttotal: 27.9s\tremaining: 1m 53s\n",
      "197:\tlearn: 0.1554830\ttotal: 28s\tremaining: 1m 53s\n",
      "198:\tlearn: 0.1552814\ttotal: 28.1s\tremaining: 1m 53s\n",
      "199:\tlearn: 0.1548286\ttotal: 28.3s\tremaining: 1m 53s\n",
      "200:\tlearn: 0.1543528\ttotal: 28.4s\tremaining: 1m 52s\n",
      "201:\tlearn: 0.1540025\ttotal: 28.5s\tremaining: 1m 52s\n",
      "202:\tlearn: 0.1535035\ttotal: 28.7s\tremaining: 1m 52s\n",
      "203:\tlearn: 0.1530925\ttotal: 28.8s\tremaining: 1m 52s\n",
      "204:\tlearn: 0.1526276\ttotal: 28.9s\tremaining: 1m 52s\n",
      "205:\tlearn: 0.1522061\ttotal: 29.1s\tremaining: 1m 52s\n",
      "206:\tlearn: 0.1519516\ttotal: 29.2s\tremaining: 1m 51s\n",
      "207:\tlearn: 0.1514647\ttotal: 29.3s\tremaining: 1m 51s\n",
      "208:\tlearn: 0.1512162\ttotal: 29.5s\tremaining: 1m 51s\n",
      "209:\tlearn: 0.1509415\ttotal: 29.6s\tremaining: 1m 51s\n",
      "210:\tlearn: 0.1508360\ttotal: 29.8s\tremaining: 1m 51s\n",
      "211:\tlearn: 0.1505240\ttotal: 29.9s\tremaining: 1m 51s\n",
      "212:\tlearn: 0.1502165\ttotal: 30.1s\tremaining: 1m 51s\n",
      "213:\tlearn: 0.1498141\ttotal: 30.2s\tremaining: 1m 50s\n",
      "214:\tlearn: 0.1494888\ttotal: 30.3s\tremaining: 1m 50s\n",
      "215:\tlearn: 0.1492936\ttotal: 30.5s\tremaining: 1m 50s\n",
      "216:\tlearn: 0.1488293\ttotal: 30.6s\tremaining: 1m 50s\n",
      "217:\tlearn: 0.1485214\ttotal: 30.7s\tremaining: 1m 50s\n",
      "218:\tlearn: 0.1482780\ttotal: 30.8s\tremaining: 1m 49s\n",
      "219:\tlearn: 0.1479029\ttotal: 31s\tremaining: 1m 49s\n",
      "220:\tlearn: 0.1476208\ttotal: 31.1s\tremaining: 1m 49s\n",
      "221:\tlearn: 0.1474508\ttotal: 31.2s\tremaining: 1m 49s\n",
      "222:\tlearn: 0.1472993\ttotal: 31.4s\tremaining: 1m 49s\n",
      "223:\tlearn: 0.1470669\ttotal: 31.5s\tremaining: 1m 49s\n",
      "224:\tlearn: 0.1469265\ttotal: 31.6s\tremaining: 1m 48s\n",
      "225:\tlearn: 0.1465429\ttotal: 31.8s\tremaining: 1m 48s\n",
      "226:\tlearn: 0.1461726\ttotal: 31.9s\tremaining: 1m 48s\n",
      "227:\tlearn: 0.1459288\ttotal: 32s\tremaining: 1m 48s\n",
      "228:\tlearn: 0.1457627\ttotal: 32.2s\tremaining: 1m 48s\n",
      "229:\tlearn: 0.1454704\ttotal: 32.3s\tremaining: 1m 48s\n",
      "230:\tlearn: 0.1451845\ttotal: 32.5s\tremaining: 1m 48s\n",
      "231:\tlearn: 0.1448992\ttotal: 32.6s\tremaining: 1m 47s\n",
      "232:\tlearn: 0.1447501\ttotal: 32.8s\tremaining: 1m 47s\n",
      "233:\tlearn: 0.1445791\ttotal: 32.9s\tremaining: 1m 47s\n",
      "234:\tlearn: 0.1442066\ttotal: 33.1s\tremaining: 1m 47s\n",
      "235:\tlearn: 0.1439024\ttotal: 33.2s\tremaining: 1m 47s\n",
      "236:\tlearn: 0.1437742\ttotal: 33.3s\tremaining: 1m 47s\n",
      "237:\tlearn: 0.1434953\ttotal: 33.5s\tremaining: 1m 47s\n",
      "238:\tlearn: 0.1431205\ttotal: 33.6s\tremaining: 1m 47s\n",
      "239:\tlearn: 0.1428492\ttotal: 33.8s\tremaining: 1m 46s\n",
      "240:\tlearn: 0.1426577\ttotal: 33.9s\tremaining: 1m 46s\n",
      "241:\tlearn: 0.1424370\ttotal: 34.1s\tremaining: 1m 46s\n",
      "242:\tlearn: 0.1421175\ttotal: 34.2s\tremaining: 1m 46s\n",
      "243:\tlearn: 0.1417948\ttotal: 34.3s\tremaining: 1m 46s\n",
      "244:\tlearn: 0.1416050\ttotal: 34.5s\tremaining: 1m 46s\n",
      "245:\tlearn: 0.1415813\ttotal: 34.6s\tremaining: 1m 46s\n",
      "246:\tlearn: 0.1414083\ttotal: 34.8s\tremaining: 1m 45s\n",
      "247:\tlearn: 0.1410270\ttotal: 34.9s\tremaining: 1m 45s\n",
      "248:\tlearn: 0.1409834\ttotal: 35s\tremaining: 1m 45s\n",
      "249:\tlearn: 0.1407151\ttotal: 35.2s\tremaining: 1m 45s\n",
      "250:\tlearn: 0.1405255\ttotal: 35.3s\tremaining: 1m 45s\n",
      "251:\tlearn: 0.1402646\ttotal: 35.4s\tremaining: 1m 45s\n",
      "252:\tlearn: 0.1400626\ttotal: 35.6s\tremaining: 1m 45s\n",
      "253:\tlearn: 0.1399139\ttotal: 35.8s\tremaining: 1m 45s\n",
      "254:\tlearn: 0.1396811\ttotal: 35.9s\tremaining: 1m 44s\n",
      "255:\tlearn: 0.1393517\ttotal: 36.1s\tremaining: 1m 44s\n",
      "256:\tlearn: 0.1390301\ttotal: 36.2s\tremaining: 1m 44s\n",
      "257:\tlearn: 0.1388231\ttotal: 36.3s\tremaining: 1m 44s\n",
      "258:\tlearn: 0.1386250\ttotal: 36.5s\tremaining: 1m 44s\n",
      "259:\tlearn: 0.1384283\ttotal: 36.6s\tremaining: 1m 44s\n",
      "260:\tlearn: 0.1382294\ttotal: 36.7s\tremaining: 1m 44s\n",
      "261:\tlearn: 0.1380410\ttotal: 36.9s\tremaining: 1m 43s\n",
      "262:\tlearn: 0.1375661\ttotal: 37s\tremaining: 1m 43s\n",
      "263:\tlearn: 0.1372792\ttotal: 37.2s\tremaining: 1m 43s\n",
      "264:\tlearn: 0.1372527\ttotal: 37.3s\tremaining: 1m 43s\n",
      "265:\tlearn: 0.1372330\ttotal: 37.4s\tremaining: 1m 43s\n",
      "266:\tlearn: 0.1369576\ttotal: 37.6s\tremaining: 1m 43s\n",
      "267:\tlearn: 0.1368236\ttotal: 37.7s\tremaining: 1m 42s\n",
      "268:\tlearn: 0.1366678\ttotal: 37.8s\tremaining: 1m 42s\n",
      "269:\tlearn: 0.1364974\ttotal: 38s\tremaining: 1m 42s\n",
      "270:\tlearn: 0.1363041\ttotal: 38.1s\tremaining: 1m 42s\n",
      "271:\tlearn: 0.1361445\ttotal: 38.3s\tremaining: 1m 42s\n",
      "272:\tlearn: 0.1360088\ttotal: 38.4s\tremaining: 1m 42s\n",
      "273:\tlearn: 0.1356589\ttotal: 38.5s\tremaining: 1m 42s\n",
      "274:\tlearn: 0.1353331\ttotal: 38.7s\tremaining: 1m 41s\n",
      "275:\tlearn: 0.1351023\ttotal: 38.8s\tremaining: 1m 41s\n",
      "276:\tlearn: 0.1345514\ttotal: 39s\tremaining: 1m 41s\n",
      "277:\tlearn: 0.1340985\ttotal: 39.1s\tremaining: 1m 41s\n",
      "278:\tlearn: 0.1340563\ttotal: 39.3s\tremaining: 1m 41s\n",
      "279:\tlearn: 0.1336783\ttotal: 39.4s\tremaining: 1m 41s\n",
      "280:\tlearn: 0.1334071\ttotal: 39.5s\tremaining: 1m 41s\n",
      "281:\tlearn: 0.1331965\ttotal: 39.7s\tremaining: 1m 41s\n",
      "282:\tlearn: 0.1330018\ttotal: 39.8s\tremaining: 1m 40s\n",
      "283:\tlearn: 0.1326471\ttotal: 40s\tremaining: 1m 40s\n",
      "284:\tlearn: 0.1323551\ttotal: 40.1s\tremaining: 1m 40s\n",
      "285:\tlearn: 0.1321897\ttotal: 40.3s\tremaining: 1m 40s\n",
      "286:\tlearn: 0.1318007\ttotal: 40.4s\tremaining: 1m 40s\n",
      "287:\tlearn: 0.1315933\ttotal: 40.5s\tremaining: 1m 40s\n",
      "288:\tlearn: 0.1315542\ttotal: 40.7s\tremaining: 1m 40s\n",
      "289:\tlearn: 0.1313696\ttotal: 40.8s\tremaining: 1m 39s\n",
      "290:\tlearn: 0.1310704\ttotal: 40.9s\tremaining: 1m 39s\n",
      "291:\tlearn: 0.1307285\ttotal: 41.1s\tremaining: 1m 39s\n",
      "292:\tlearn: 0.1304436\ttotal: 41.2s\tremaining: 1m 39s\n",
      "293:\tlearn: 0.1302651\ttotal: 41.3s\tremaining: 1m 39s\n",
      "294:\tlearn: 0.1300857\ttotal: 41.4s\tremaining: 1m 39s\n",
      "295:\tlearn: 0.1296642\ttotal: 41.6s\tremaining: 1m 38s\n",
      "296:\tlearn: 0.1293262\ttotal: 41.7s\tremaining: 1m 38s\n",
      "297:\tlearn: 0.1292988\ttotal: 41.9s\tremaining: 1m 38s\n",
      "298:\tlearn: 0.1290745\ttotal: 42s\tremaining: 1m 38s\n",
      "299:\tlearn: 0.1290562\ttotal: 42.1s\tremaining: 1m 38s\n",
      "300:\tlearn: 0.1290314\ttotal: 42.3s\tremaining: 1m 38s\n",
      "301:\tlearn: 0.1288613\ttotal: 42.4s\tremaining: 1m 37s\n",
      "302:\tlearn: 0.1285069\ttotal: 42.5s\tremaining: 1m 37s\n",
      "303:\tlearn: 0.1282994\ttotal: 42.7s\tremaining: 1m 37s\n",
      "304:\tlearn: 0.1282780\ttotal: 42.8s\tremaining: 1m 37s\n",
      "305:\tlearn: 0.1282623\ttotal: 42.9s\tremaining: 1m 37s\n",
      "306:\tlearn: 0.1279063\ttotal: 43.1s\tremaining: 1m 37s\n",
      "307:\tlearn: 0.1277090\ttotal: 43.2s\tremaining: 1m 37s\n",
      "308:\tlearn: 0.1275788\ttotal: 43.4s\tremaining: 1m 37s\n",
      "309:\tlearn: 0.1275005\ttotal: 43.5s\tremaining: 1m 36s\n",
      "310:\tlearn: 0.1273570\ttotal: 43.7s\tremaining: 1m 36s\n",
      "311:\tlearn: 0.1272331\ttotal: 43.8s\tremaining: 1m 36s\n",
      "312:\tlearn: 0.1271171\ttotal: 44s\tremaining: 1m 36s\n",
      "313:\tlearn: 0.1269465\ttotal: 44.1s\tremaining: 1m 36s\n",
      "314:\tlearn: 0.1266359\ttotal: 44.3s\tremaining: 1m 36s\n",
      "315:\tlearn: 0.1262316\ttotal: 44.4s\tremaining: 1m 36s\n",
      "316:\tlearn: 0.1260223\ttotal: 44.6s\tremaining: 1m 36s\n",
      "317:\tlearn: 0.1259886\ttotal: 44.7s\tremaining: 1m 35s\n",
      "318:\tlearn: 0.1258504\ttotal: 44.9s\tremaining: 1m 35s\n",
      "319:\tlearn: 0.1256039\ttotal: 45s\tremaining: 1m 35s\n",
      "320:\tlearn: 0.1253773\ttotal: 45.1s\tremaining: 1m 35s\n",
      "321:\tlearn: 0.1251811\ttotal: 45.3s\tremaining: 1m 35s\n",
      "322:\tlearn: 0.1251612\ttotal: 45.4s\tremaining: 1m 35s\n",
      "323:\tlearn: 0.1248956\ttotal: 45.5s\tremaining: 1m 35s\n",
      "324:\tlearn: 0.1246519\ttotal: 45.7s\tremaining: 1m 34s\n",
      "325:\tlearn: 0.1245859\ttotal: 45.8s\tremaining: 1m 34s\n",
      "326:\tlearn: 0.1243548\ttotal: 45.9s\tremaining: 1m 34s\n",
      "327:\tlearn: 0.1243348\ttotal: 46.1s\tremaining: 1m 34s\n",
      "328:\tlearn: 0.1241526\ttotal: 46.2s\tremaining: 1m 34s\n",
      "329:\tlearn: 0.1240413\ttotal: 46.4s\tremaining: 1m 34s\n",
      "330:\tlearn: 0.1240119\ttotal: 46.5s\tremaining: 1m 33s\n",
      "331:\tlearn: 0.1239939\ttotal: 46.6s\tremaining: 1m 33s\n",
      "332:\tlearn: 0.1237977\ttotal: 46.8s\tremaining: 1m 33s\n",
      "333:\tlearn: 0.1237562\ttotal: 46.9s\tremaining: 1m 33s\n",
      "334:\tlearn: 0.1234894\ttotal: 47s\tremaining: 1m 33s\n",
      "335:\tlearn: 0.1234456\ttotal: 47.2s\tremaining: 1m 33s\n",
      "336:\tlearn: 0.1233071\ttotal: 47.3s\tremaining: 1m 33s\n",
      "337:\tlearn: 0.1232431\ttotal: 47.4s\tremaining: 1m 32s\n",
      "338:\tlearn: 0.1231104\ttotal: 47.6s\tremaining: 1m 32s\n",
      "339:\tlearn: 0.1230046\ttotal: 47.7s\tremaining: 1m 32s\n",
      "340:\tlearn: 0.1228401\ttotal: 47.8s\tremaining: 1m 32s\n",
      "341:\tlearn: 0.1226214\ttotal: 48s\tremaining: 1m 32s\n",
      "342:\tlearn: 0.1223292\ttotal: 48.1s\tremaining: 1m 32s\n",
      "343:\tlearn: 0.1221366\ttotal: 48.2s\tremaining: 1m 32s\n",
      "344:\tlearn: 0.1218739\ttotal: 48.4s\tremaining: 1m 31s\n",
      "345:\tlearn: 0.1216687\ttotal: 48.5s\tremaining: 1m 31s\n",
      "346:\tlearn: 0.1216470\ttotal: 48.7s\tremaining: 1m 31s\n",
      "347:\tlearn: 0.1216185\ttotal: 48.8s\tremaining: 1m 31s\n",
      "348:\tlearn: 0.1214341\ttotal: 49s\tremaining: 1m 31s\n",
      "349:\tlearn: 0.1213068\ttotal: 49.1s\tremaining: 1m 31s\n",
      "350:\tlearn: 0.1210243\ttotal: 49.3s\tremaining: 1m 31s\n",
      "351:\tlearn: 0.1208044\ttotal: 49.4s\tremaining: 1m 30s\n",
      "352:\tlearn: 0.1205518\ttotal: 49.5s\tremaining: 1m 30s\n",
      "353:\tlearn: 0.1202494\ttotal: 49.7s\tremaining: 1m 30s\n",
      "354:\tlearn: 0.1200467\ttotal: 49.8s\tremaining: 1m 30s\n",
      "355:\tlearn: 0.1198372\ttotal: 50s\tremaining: 1m 30s\n",
      "356:\tlearn: 0.1197752\ttotal: 50.1s\tremaining: 1m 30s\n",
      "357:\tlearn: 0.1194411\ttotal: 50.3s\tremaining: 1m 30s\n",
      "358:\tlearn: 0.1192547\ttotal: 50.4s\tremaining: 1m 29s\n",
      "359:\tlearn: 0.1192114\ttotal: 50.5s\tremaining: 1m 29s\n",
      "360:\tlearn: 0.1191593\ttotal: 50.7s\tremaining: 1m 29s\n",
      "361:\tlearn: 0.1190733\ttotal: 50.8s\tremaining: 1m 29s\n",
      "362:\tlearn: 0.1189998\ttotal: 50.9s\tremaining: 1m 29s\n",
      "363:\tlearn: 0.1189075\ttotal: 51.1s\tremaining: 1m 29s\n",
      "364:\tlearn: 0.1186350\ttotal: 51.2s\tremaining: 1m 29s\n",
      "365:\tlearn: 0.1183675\ttotal: 51.4s\tremaining: 1m 28s\n",
      "366:\tlearn: 0.1182185\ttotal: 51.5s\tremaining: 1m 28s\n",
      "367:\tlearn: 0.1181369\ttotal: 51.6s\tremaining: 1m 28s\n",
      "368:\tlearn: 0.1178834\ttotal: 51.8s\tremaining: 1m 28s\n",
      "369:\tlearn: 0.1178589\ttotal: 51.9s\tremaining: 1m 28s\n",
      "370:\tlearn: 0.1176066\ttotal: 52.1s\tremaining: 1m 28s\n",
      "371:\tlearn: 0.1175699\ttotal: 52.2s\tremaining: 1m 28s\n",
      "372:\tlearn: 0.1173822\ttotal: 52.3s\tremaining: 1m 27s\n",
      "373:\tlearn: 0.1173661\ttotal: 52.5s\tremaining: 1m 27s\n",
      "374:\tlearn: 0.1172570\ttotal: 52.6s\tremaining: 1m 27s\n",
      "375:\tlearn: 0.1172143\ttotal: 52.7s\tremaining: 1m 27s\n",
      "376:\tlearn: 0.1171164\ttotal: 52.9s\tremaining: 1m 27s\n",
      "377:\tlearn: 0.1170960\ttotal: 53s\tremaining: 1m 27s\n",
      "378:\tlearn: 0.1170733\ttotal: 53.1s\tremaining: 1m 27s\n",
      "379:\tlearn: 0.1170570\ttotal: 53.3s\tremaining: 1m 26s\n",
      "380:\tlearn: 0.1168216\ttotal: 53.4s\tremaining: 1m 26s\n",
      "381:\tlearn: 0.1165007\ttotal: 53.5s\tremaining: 1m 26s\n",
      "382:\tlearn: 0.1164536\ttotal: 53.7s\tremaining: 1m 26s\n",
      "383:\tlearn: 0.1164317\ttotal: 53.8s\tremaining: 1m 26s\n",
      "384:\tlearn: 0.1164096\ttotal: 54s\tremaining: 1m 26s\n",
      "385:\tlearn: 0.1163743\ttotal: 54.1s\tremaining: 1m 26s\n",
      "386:\tlearn: 0.1163509\ttotal: 54.2s\tremaining: 1m 25s\n",
      "387:\tlearn: 0.1163284\ttotal: 54.4s\tremaining: 1m 25s\n",
      "388:\tlearn: 0.1163081\ttotal: 54.5s\tremaining: 1m 25s\n",
      "389:\tlearn: 0.1162878\ttotal: 54.7s\tremaining: 1m 25s\n",
      "390:\tlearn: 0.1162538\ttotal: 54.8s\tremaining: 1m 25s\n",
      "391:\tlearn: 0.1160859\ttotal: 55s\tremaining: 1m 25s\n",
      "392:\tlearn: 0.1159918\ttotal: 55.2s\tremaining: 1m 25s\n",
      "393:\tlearn: 0.1159638\ttotal: 55.4s\tremaining: 1m 25s\n",
      "394:\tlearn: 0.1157777\ttotal: 55.5s\tremaining: 1m 25s\n",
      "395:\tlearn: 0.1157526\ttotal: 55.7s\tremaining: 1m 24s\n",
      "396:\tlearn: 0.1154787\ttotal: 55.8s\tremaining: 1m 24s\n",
      "397:\tlearn: 0.1152939\ttotal: 56s\tremaining: 1m 24s\n",
      "398:\tlearn: 0.1152721\ttotal: 56.1s\tremaining: 1m 24s\n",
      "399:\tlearn: 0.1150087\ttotal: 56.2s\tremaining: 1m 24s\n",
      "400:\tlearn: 0.1149890\ttotal: 56.4s\tremaining: 1m 24s\n",
      "401:\tlearn: 0.1149588\ttotal: 56.5s\tremaining: 1m 24s\n",
      "402:\tlearn: 0.1149338\ttotal: 56.7s\tremaining: 1m 23s\n",
      "403:\tlearn: 0.1149151\ttotal: 56.8s\tremaining: 1m 23s\n",
      "404:\tlearn: 0.1146171\ttotal: 57s\tremaining: 1m 23s\n",
      "405:\tlearn: 0.1144040\ttotal: 57.1s\tremaining: 1m 23s\n",
      "406:\tlearn: 0.1142307\ttotal: 57.3s\tremaining: 1m 23s\n",
      "407:\tlearn: 0.1142055\ttotal: 57.4s\tremaining: 1m 23s\n",
      "408:\tlearn: 0.1141848\ttotal: 57.5s\tremaining: 1m 23s\n",
      "409:\tlearn: 0.1141609\ttotal: 57.7s\tremaining: 1m 23s\n",
      "410:\tlearn: 0.1139579\ttotal: 57.8s\tremaining: 1m 22s\n",
      "411:\tlearn: 0.1137421\ttotal: 58s\tremaining: 1m 22s\n",
      "412:\tlearn: 0.1137230\ttotal: 58.1s\tremaining: 1m 22s\n",
      "413:\tlearn: 0.1136975\ttotal: 58.3s\tremaining: 1m 22s\n",
      "414:\tlearn: 0.1136808\ttotal: 58.4s\tremaining: 1m 22s\n",
      "415:\tlearn: 0.1135290\ttotal: 58.6s\tremaining: 1m 22s\n",
      "416:\tlearn: 0.1132618\ttotal: 58.7s\tremaining: 1m 22s\n",
      "417:\tlearn: 0.1132363\ttotal: 58.8s\tremaining: 1m 21s\n",
      "418:\tlearn: 0.1130790\ttotal: 59s\tremaining: 1m 21s\n",
      "419:\tlearn: 0.1130566\ttotal: 59.1s\tremaining: 1m 21s\n",
      "420:\tlearn: 0.1128911\ttotal: 59.3s\tremaining: 1m 21s\n",
      "421:\tlearn: 0.1126203\ttotal: 59.4s\tremaining: 1m 21s\n",
      "422:\tlearn: 0.1123355\ttotal: 59.5s\tremaining: 1m 21s\n",
      "423:\tlearn: 0.1120676\ttotal: 59.7s\tremaining: 1m 21s\n",
      "424:\tlearn: 0.1120392\ttotal: 59.8s\tremaining: 1m 20s\n",
      "425:\tlearn: 0.1118652\ttotal: 60s\tremaining: 1m 20s\n",
      "426:\tlearn: 0.1115852\ttotal: 1m\tremaining: 1m 20s\n",
      "427:\tlearn: 0.1115037\ttotal: 1m\tremaining: 1m 20s\n",
      "428:\tlearn: 0.1113019\ttotal: 1m\tremaining: 1m 20s\n",
      "429:\tlearn: 0.1112693\ttotal: 1m\tremaining: 1m 20s\n",
      "430:\tlearn: 0.1112428\ttotal: 1m\tremaining: 1m 20s\n",
      "431:\tlearn: 0.1110824\ttotal: 1m\tremaining: 1m 19s\n",
      "432:\tlearn: 0.1109304\ttotal: 1m\tremaining: 1m 19s\n",
      "433:\tlearn: 0.1107277\ttotal: 1m 1s\tremaining: 1m 19s\n",
      "434:\tlearn: 0.1106314\ttotal: 1m 1s\tremaining: 1m 19s\n",
      "435:\tlearn: 0.1102287\ttotal: 1m 1s\tremaining: 1m 19s\n",
      "436:\tlearn: 0.1102086\ttotal: 1m 1s\tremaining: 1m 19s\n",
      "437:\tlearn: 0.1099143\ttotal: 1m 1s\tremaining: 1m 19s\n",
      "438:\tlearn: 0.1098680\ttotal: 1m 1s\tremaining: 1m 18s\n",
      "439:\tlearn: 0.1096592\ttotal: 1m 1s\tremaining: 1m 18s\n",
      "440:\tlearn: 0.1096362\ttotal: 1m 2s\tremaining: 1m 18s\n",
      "441:\tlearn: 0.1094108\ttotal: 1m 2s\tremaining: 1m 18s\n",
      "442:\tlearn: 0.1093874\ttotal: 1m 2s\tremaining: 1m 18s\n",
      "443:\tlearn: 0.1090419\ttotal: 1m 2s\tremaining: 1m 18s\n",
      "444:\tlearn: 0.1089930\ttotal: 1m 2s\tremaining: 1m 18s\n",
      "445:\tlearn: 0.1089568\ttotal: 1m 2s\tremaining: 1m 17s\n",
      "446:\tlearn: 0.1089097\ttotal: 1m 2s\tremaining: 1m 17s\n",
      "447:\tlearn: 0.1087675\ttotal: 1m 3s\tremaining: 1m 17s\n",
      "448:\tlearn: 0.1087446\ttotal: 1m 3s\tremaining: 1m 17s\n",
      "449:\tlearn: 0.1087213\ttotal: 1m 3s\tremaining: 1m 17s\n",
      "450:\tlearn: 0.1085162\ttotal: 1m 3s\tremaining: 1m 17s\n",
      "451:\tlearn: 0.1084948\ttotal: 1m 3s\tremaining: 1m 17s\n",
      "452:\tlearn: 0.1082617\ttotal: 1m 3s\tremaining: 1m 17s\n",
      "453:\tlearn: 0.1082394\ttotal: 1m 3s\tremaining: 1m 16s\n",
      "454:\tlearn: 0.1081902\ttotal: 1m 4s\tremaining: 1m 16s\n",
      "455:\tlearn: 0.1079744\ttotal: 1m 4s\tremaining: 1m 16s\n",
      "456:\tlearn: 0.1078208\ttotal: 1m 4s\tremaining: 1m 16s\n",
      "457:\tlearn: 0.1075502\ttotal: 1m 4s\tremaining: 1m 16s\n",
      "458:\tlearn: 0.1074906\ttotal: 1m 4s\tremaining: 1m 16s\n",
      "459:\tlearn: 0.1074667\ttotal: 1m 4s\tremaining: 1m 15s\n",
      "460:\tlearn: 0.1073685\ttotal: 1m 4s\tremaining: 1m 15s\n",
      "461:\tlearn: 0.1073441\ttotal: 1m 4s\tremaining: 1m 15s\n",
      "462:\tlearn: 0.1072032\ttotal: 1m 5s\tremaining: 1m 15s\n",
      "463:\tlearn: 0.1071816\ttotal: 1m 5s\tremaining: 1m 15s\n",
      "464:\tlearn: 0.1069484\ttotal: 1m 5s\tremaining: 1m 15s\n",
      "465:\tlearn: 0.1069270\ttotal: 1m 5s\tremaining: 1m 15s\n",
      "466:\tlearn: 0.1066831\ttotal: 1m 5s\tremaining: 1m 14s\n",
      "467:\tlearn: 0.1066617\ttotal: 1m 5s\tremaining: 1m 14s\n",
      "468:\tlearn: 0.1064876\ttotal: 1m 5s\tremaining: 1m 14s\n",
      "469:\tlearn: 0.1063653\ttotal: 1m 6s\tremaining: 1m 14s\n",
      "470:\tlearn: 0.1063194\ttotal: 1m 6s\tremaining: 1m 14s\n",
      "471:\tlearn: 0.1062927\ttotal: 1m 6s\tremaining: 1m 14s\n",
      "472:\tlearn: 0.1060029\ttotal: 1m 6s\tremaining: 1m 14s\n",
      "473:\tlearn: 0.1059799\ttotal: 1m 6s\tremaining: 1m 13s\n",
      "474:\tlearn: 0.1057519\ttotal: 1m 6s\tremaining: 1m 13s\n",
      "475:\tlearn: 0.1057021\ttotal: 1m 6s\tremaining: 1m 13s\n",
      "476:\tlearn: 0.1055332\ttotal: 1m 7s\tremaining: 1m 13s\n",
      "477:\tlearn: 0.1053860\ttotal: 1m 7s\tremaining: 1m 13s\n",
      "478:\tlearn: 0.1053627\ttotal: 1m 7s\tremaining: 1m 13s\n",
      "479:\tlearn: 0.1050667\ttotal: 1m 7s\tremaining: 1m 13s\n",
      "480:\tlearn: 0.1048261\ttotal: 1m 7s\tremaining: 1m 12s\n",
      "481:\tlearn: 0.1048064\ttotal: 1m 7s\tremaining: 1m 12s\n",
      "482:\tlearn: 0.1047866\ttotal: 1m 7s\tremaining: 1m 12s\n",
      "483:\tlearn: 0.1047660\ttotal: 1m 7s\tremaining: 1m 12s\n",
      "484:\tlearn: 0.1045085\ttotal: 1m 8s\tremaining: 1m 12s\n",
      "485:\tlearn: 0.1044882\ttotal: 1m 8s\tremaining: 1m 12s\n",
      "486:\tlearn: 0.1043458\ttotal: 1m 8s\tremaining: 1m 12s\n",
      "487:\tlearn: 0.1040845\ttotal: 1m 8s\tremaining: 1m 11s\n",
      "488:\tlearn: 0.1037526\ttotal: 1m 8s\tremaining: 1m 11s\n",
      "489:\tlearn: 0.1037325\ttotal: 1m 8s\tremaining: 1m 11s\n",
      "490:\tlearn: 0.1035254\ttotal: 1m 8s\tremaining: 1m 11s\n",
      "491:\tlearn: 0.1033332\ttotal: 1m 9s\tremaining: 1m 11s\n",
      "492:\tlearn: 0.1030879\ttotal: 1m 9s\tremaining: 1m 11s\n",
      "493:\tlearn: 0.1027148\ttotal: 1m 9s\tremaining: 1m 10s\n",
      "494:\tlearn: 0.1025954\ttotal: 1m 9s\tremaining: 1m 10s\n",
      "495:\tlearn: 0.1023696\ttotal: 1m 9s\tremaining: 1m 10s\n",
      "496:\tlearn: 0.1023495\ttotal: 1m 9s\tremaining: 1m 10s\n",
      "497:\tlearn: 0.1021312\ttotal: 1m 9s\tremaining: 1m 10s\n",
      "498:\tlearn: 0.1021122\ttotal: 1m 9s\tremaining: 1m 10s\n",
      "499:\tlearn: 0.1019470\ttotal: 1m 10s\tremaining: 1m 10s\n",
      "500:\tlearn: 0.1019279\ttotal: 1m 10s\tremaining: 1m 9s\n",
      "501:\tlearn: 0.1017913\ttotal: 1m 10s\tremaining: 1m 9s\n",
      "502:\tlearn: 0.1017714\ttotal: 1m 10s\tremaining: 1m 9s\n",
      "503:\tlearn: 0.1015259\ttotal: 1m 10s\tremaining: 1m 9s\n",
      "504:\tlearn: 0.1012710\ttotal: 1m 10s\tremaining: 1m 9s\n",
      "505:\tlearn: 0.1011420\ttotal: 1m 10s\tremaining: 1m 9s\n",
      "506:\tlearn: 0.1009535\ttotal: 1m 11s\tremaining: 1m 9s\n",
      "507:\tlearn: 0.1007614\ttotal: 1m 11s\tremaining: 1m 8s\n",
      "508:\tlearn: 0.1007420\ttotal: 1m 11s\tremaining: 1m 8s\n",
      "509:\tlearn: 0.1006246\ttotal: 1m 11s\tremaining: 1m 8s\n",
      "510:\tlearn: 0.1006043\ttotal: 1m 11s\tremaining: 1m 8s\n",
      "511:\tlearn: 0.1004753\ttotal: 1m 11s\tremaining: 1m 8s\n",
      "512:\tlearn: 0.1002843\ttotal: 1m 11s\tremaining: 1m 8s\n",
      "513:\tlearn: 0.1000743\ttotal: 1m 11s\tremaining: 1m 8s\n",
      "514:\tlearn: 0.1000549\ttotal: 1m 12s\tremaining: 1m 7s\n",
      "515:\tlearn: 0.1000369\ttotal: 1m 12s\tremaining: 1m 7s\n",
      "516:\tlearn: 0.0998582\ttotal: 1m 12s\tremaining: 1m 7s\n",
      "517:\tlearn: 0.0998144\ttotal: 1m 12s\tremaining: 1m 7s\n",
      "518:\tlearn: 0.0997576\ttotal: 1m 12s\tremaining: 1m 7s\n",
      "519:\tlearn: 0.0996073\ttotal: 1m 12s\tremaining: 1m 7s\n",
      "520:\tlearn: 0.0995903\ttotal: 1m 12s\tremaining: 1m 6s\n",
      "521:\tlearn: 0.0993957\ttotal: 1m 12s\tremaining: 1m 6s\n",
      "522:\tlearn: 0.0992115\ttotal: 1m 13s\tremaining: 1m 6s\n",
      "523:\tlearn: 0.0991943\ttotal: 1m 13s\tremaining: 1m 6s\n",
      "524:\tlearn: 0.0989604\ttotal: 1m 13s\tremaining: 1m 6s\n",
      "525:\tlearn: 0.0986942\ttotal: 1m 13s\tremaining: 1m 6s\n",
      "526:\tlearn: 0.0986558\ttotal: 1m 13s\tremaining: 1m 6s\n",
      "527:\tlearn: 0.0984281\ttotal: 1m 13s\tremaining: 1m 5s\n",
      "528:\tlearn: 0.0984095\ttotal: 1m 13s\tremaining: 1m 5s\n",
      "529:\tlearn: 0.0982120\ttotal: 1m 14s\tremaining: 1m 5s\n",
      "530:\tlearn: 0.0980409\ttotal: 1m 14s\tremaining: 1m 5s\n",
      "531:\tlearn: 0.0980240\ttotal: 1m 14s\tremaining: 1m 5s\n",
      "532:\tlearn: 0.0980063\ttotal: 1m 14s\tremaining: 1m 5s\n",
      "533:\tlearn: 0.0978571\ttotal: 1m 14s\tremaining: 1m 5s\n",
      "534:\tlearn: 0.0976180\ttotal: 1m 14s\tremaining: 1m 4s\n",
      "535:\tlearn: 0.0976008\ttotal: 1m 14s\tremaining: 1m 4s\n",
      "536:\tlearn: 0.0973045\ttotal: 1m 14s\tremaining: 1m 4s\n",
      "537:\tlearn: 0.0972101\ttotal: 1m 15s\tremaining: 1m 4s\n",
      "538:\tlearn: 0.0969765\ttotal: 1m 15s\tremaining: 1m 4s\n",
      "539:\tlearn: 0.0967801\ttotal: 1m 15s\tremaining: 1m 4s\n",
      "540:\tlearn: 0.0967325\ttotal: 1m 15s\tremaining: 1m 4s\n",
      "541:\tlearn: 0.0967126\ttotal: 1m 15s\tremaining: 1m 3s\n",
      "542:\tlearn: 0.0965151\ttotal: 1m 15s\tremaining: 1m 3s\n",
      "543:\tlearn: 0.0964993\ttotal: 1m 15s\tremaining: 1m 3s\n",
      "544:\tlearn: 0.0963489\ttotal: 1m 16s\tremaining: 1m 3s\n",
      "545:\tlearn: 0.0962524\ttotal: 1m 16s\tremaining: 1m 3s\n",
      "546:\tlearn: 0.0959857\ttotal: 1m 16s\tremaining: 1m 3s\n",
      "547:\tlearn: 0.0959690\ttotal: 1m 16s\tremaining: 1m 3s\n",
      "548:\tlearn: 0.0958428\ttotal: 1m 16s\tremaining: 1m 2s\n",
      "549:\tlearn: 0.0958026\ttotal: 1m 16s\tremaining: 1m 2s\n",
      "550:\tlearn: 0.0956645\ttotal: 1m 16s\tremaining: 1m 2s\n",
      "551:\tlearn: 0.0954261\ttotal: 1m 17s\tremaining: 1m 2s\n",
      "552:\tlearn: 0.0954099\ttotal: 1m 17s\tremaining: 1m 2s\n",
      "553:\tlearn: 0.0952585\ttotal: 1m 17s\tremaining: 1m 2s\n",
      "554:\tlearn: 0.0952210\ttotal: 1m 17s\tremaining: 1m 2s\n",
      "555:\tlearn: 0.0950714\ttotal: 1m 17s\tremaining: 1m 2s\n",
      "556:\tlearn: 0.0950436\ttotal: 1m 18s\tremaining: 1m 2s\n",
      "557:\tlearn: 0.0950276\ttotal: 1m 18s\tremaining: 1m 1s\n",
      "558:\tlearn: 0.0948069\ttotal: 1m 18s\tremaining: 1m 1s\n",
      "559:\tlearn: 0.0947907\ttotal: 1m 18s\tremaining: 1m 1s\n",
      "560:\tlearn: 0.0946406\ttotal: 1m 18s\tremaining: 1m 1s\n",
      "561:\tlearn: 0.0946090\ttotal: 1m 18s\tremaining: 1m 1s\n",
      "562:\tlearn: 0.0944936\ttotal: 1m 18s\tremaining: 1m 1s\n",
      "563:\tlearn: 0.0944670\ttotal: 1m 19s\tremaining: 1m 1s\n",
      "564:\tlearn: 0.0942898\ttotal: 1m 19s\tremaining: 1m\n",
      "565:\tlearn: 0.0940930\ttotal: 1m 19s\tremaining: 1m\n",
      "566:\tlearn: 0.0939577\ttotal: 1m 19s\tremaining: 1m\n",
      "567:\tlearn: 0.0939184\ttotal: 1m 19s\tremaining: 1m\n",
      "568:\tlearn: 0.0939021\ttotal: 1m 19s\tremaining: 1m\n",
      "569:\tlearn: 0.0938870\ttotal: 1m 19s\tremaining: 1m\n",
      "570:\tlearn: 0.0937314\ttotal: 1m 20s\tremaining: 1m\n",
      "571:\tlearn: 0.0936472\ttotal: 1m 20s\tremaining: 60s\n",
      "572:\tlearn: 0.0935006\ttotal: 1m 20s\tremaining: 59.9s\n",
      "573:\tlearn: 0.0934851\ttotal: 1m 20s\tremaining: 59.7s\n",
      "574:\tlearn: 0.0933335\ttotal: 1m 20s\tremaining: 59.6s\n",
      "575:\tlearn: 0.0932511\ttotal: 1m 20s\tremaining: 59.4s\n",
      "576:\tlearn: 0.0930434\ttotal: 1m 20s\tremaining: 59.3s\n",
      "577:\tlearn: 0.0930078\ttotal: 1m 21s\tremaining: 59.2s\n",
      "578:\tlearn: 0.0928487\ttotal: 1m 21s\tremaining: 59.1s\n",
      "579:\tlearn: 0.0928124\ttotal: 1m 21s\tremaining: 58.9s\n",
      "580:\tlearn: 0.0927976\ttotal: 1m 21s\tremaining: 58.8s\n",
      "581:\tlearn: 0.0927585\ttotal: 1m 21s\tremaining: 58.7s\n",
      "582:\tlearn: 0.0926882\ttotal: 1m 21s\tremaining: 58.6s\n",
      "583:\tlearn: 0.0924958\ttotal: 1m 22s\tremaining: 58.5s\n",
      "584:\tlearn: 0.0924774\ttotal: 1m 22s\tremaining: 58.3s\n",
      "585:\tlearn: 0.0922655\ttotal: 1m 22s\tremaining: 58.2s\n",
      "586:\tlearn: 0.0920844\ttotal: 1m 22s\tremaining: 58.1s\n",
      "587:\tlearn: 0.0919024\ttotal: 1m 22s\tremaining: 58s\n",
      "588:\tlearn: 0.0916301\ttotal: 1m 22s\tremaining: 57.8s\n",
      "589:\tlearn: 0.0915922\ttotal: 1m 23s\tremaining: 57.7s\n",
      "590:\tlearn: 0.0915096\ttotal: 1m 23s\tremaining: 57.6s\n",
      "591:\tlearn: 0.0914716\ttotal: 1m 23s\tremaining: 57.5s\n",
      "592:\tlearn: 0.0912536\ttotal: 1m 23s\tremaining: 57.3s\n",
      "593:\tlearn: 0.0910778\ttotal: 1m 23s\tremaining: 57.2s\n",
      "594:\tlearn: 0.0908825\ttotal: 1m 23s\tremaining: 57.1s\n",
      "595:\tlearn: 0.0907167\ttotal: 1m 24s\tremaining: 57s\n",
      "596:\tlearn: 0.0906953\ttotal: 1m 24s\tremaining: 56.8s\n",
      "597:\tlearn: 0.0905890\ttotal: 1m 24s\tremaining: 56.7s\n",
      "598:\tlearn: 0.0905501\ttotal: 1m 24s\tremaining: 56.5s\n",
      "599:\tlearn: 0.0904232\ttotal: 1m 24s\tremaining: 56.4s\n",
      "600:\tlearn: 0.0904083\ttotal: 1m 24s\tremaining: 56.2s\n",
      "601:\tlearn: 0.0902765\ttotal: 1m 24s\tremaining: 56.1s\n",
      "602:\tlearn: 0.0900384\ttotal: 1m 24s\tremaining: 55.9s\n",
      "603:\tlearn: 0.0899095\ttotal: 1m 25s\tremaining: 55.8s\n",
      "604:\tlearn: 0.0898175\ttotal: 1m 25s\tremaining: 55.7s\n",
      "605:\tlearn: 0.0897247\ttotal: 1m 25s\tremaining: 55.5s\n",
      "606:\tlearn: 0.0896973\ttotal: 1m 25s\tremaining: 55.4s\n",
      "607:\tlearn: 0.0895983\ttotal: 1m 25s\tremaining: 55.2s\n",
      "608:\tlearn: 0.0894578\ttotal: 1m 25s\tremaining: 55.1s\n",
      "609:\tlearn: 0.0893652\ttotal: 1m 25s\tremaining: 54.9s\n",
      "610:\tlearn: 0.0893492\ttotal: 1m 26s\tremaining: 54.8s\n",
      "611:\tlearn: 0.0893040\ttotal: 1m 26s\tremaining: 54.6s\n",
      "612:\tlearn: 0.0892896\ttotal: 1m 26s\tremaining: 54.5s\n",
      "613:\tlearn: 0.0891935\ttotal: 1m 26s\tremaining: 54.4s\n",
      "614:\tlearn: 0.0891017\ttotal: 1m 26s\tremaining: 54.2s\n",
      "615:\tlearn: 0.0888722\ttotal: 1m 26s\tremaining: 54.1s\n",
      "616:\tlearn: 0.0888579\ttotal: 1m 26s\tremaining: 53.9s\n",
      "617:\tlearn: 0.0887816\ttotal: 1m 27s\tremaining: 53.8s\n",
      "618:\tlearn: 0.0886945\ttotal: 1m 27s\tremaining: 53.7s\n",
      "619:\tlearn: 0.0885551\ttotal: 1m 27s\tremaining: 53.5s\n",
      "620:\tlearn: 0.0883139\ttotal: 1m 27s\tremaining: 53.4s\n",
      "621:\tlearn: 0.0882997\ttotal: 1m 27s\tremaining: 53.3s\n",
      "622:\tlearn: 0.0881707\ttotal: 1m 27s\tremaining: 53.1s\n",
      "623:\tlearn: 0.0881357\ttotal: 1m 27s\tremaining: 53s\n",
      "624:\tlearn: 0.0881144\ttotal: 1m 28s\tremaining: 52.8s\n",
      "625:\tlearn: 0.0879987\ttotal: 1m 28s\tremaining: 52.7s\n",
      "626:\tlearn: 0.0878454\ttotal: 1m 28s\tremaining: 52.5s\n",
      "627:\tlearn: 0.0878103\ttotal: 1m 28s\tremaining: 52.4s\n",
      "628:\tlearn: 0.0877812\ttotal: 1m 28s\tremaining: 52.3s\n",
      "629:\tlearn: 0.0877447\ttotal: 1m 28s\tremaining: 52.1s\n",
      "630:\tlearn: 0.0877277\ttotal: 1m 28s\tremaining: 52s\n",
      "631:\tlearn: 0.0875345\ttotal: 1m 29s\tremaining: 51.9s\n",
      "632:\tlearn: 0.0872978\ttotal: 1m 29s\tremaining: 51.7s\n",
      "633:\tlearn: 0.0872639\ttotal: 1m 29s\tremaining: 51.6s\n",
      "634:\tlearn: 0.0871419\ttotal: 1m 29s\tremaining: 51.4s\n",
      "635:\tlearn: 0.0871278\ttotal: 1m 29s\tremaining: 51.3s\n",
      "636:\tlearn: 0.0870029\ttotal: 1m 29s\tremaining: 51.2s\n",
      "637:\tlearn: 0.0868629\ttotal: 1m 29s\tremaining: 51s\n",
      "638:\tlearn: 0.0868464\ttotal: 1m 30s\tremaining: 50.9s\n",
      "639:\tlearn: 0.0867162\ttotal: 1m 30s\tremaining: 50.7s\n",
      "640:\tlearn: 0.0866280\ttotal: 1m 30s\tremaining: 50.6s\n",
      "641:\tlearn: 0.0866146\ttotal: 1m 30s\tremaining: 50.5s\n",
      "642:\tlearn: 0.0865932\ttotal: 1m 30s\tremaining: 50.3s\n",
      "643:\tlearn: 0.0863401\ttotal: 1m 30s\tremaining: 50.2s\n",
      "644:\tlearn: 0.0862308\ttotal: 1m 30s\tremaining: 50.1s\n",
      "645:\tlearn: 0.0860336\ttotal: 1m 31s\tremaining: 49.9s\n",
      "646:\tlearn: 0.0859488\ttotal: 1m 31s\tremaining: 49.8s\n",
      "647:\tlearn: 0.0858760\ttotal: 1m 31s\tremaining: 49.6s\n",
      "648:\tlearn: 0.0858625\ttotal: 1m 31s\tremaining: 49.5s\n",
      "649:\tlearn: 0.0858468\ttotal: 1m 31s\tremaining: 49.4s\n",
      "650:\tlearn: 0.0858274\ttotal: 1m 31s\tremaining: 49.2s\n",
      "651:\tlearn: 0.0857521\ttotal: 1m 31s\tremaining: 49.1s\n",
      "652:\tlearn: 0.0855640\ttotal: 1m 32s\tremaining: 48.9s\n",
      "653:\tlearn: 0.0855493\ttotal: 1m 32s\tremaining: 48.8s\n",
      "654:\tlearn: 0.0854220\ttotal: 1m 32s\tremaining: 48.6s\n",
      "655:\tlearn: 0.0854088\ttotal: 1m 32s\tremaining: 48.5s\n",
      "656:\tlearn: 0.0852825\ttotal: 1m 32s\tremaining: 48.4s\n",
      "657:\tlearn: 0.0851606\ttotal: 1m 32s\tremaining: 48.2s\n",
      "658:\tlearn: 0.0851187\ttotal: 1m 32s\tremaining: 48.1s\n",
      "659:\tlearn: 0.0850885\ttotal: 1m 33s\tremaining: 47.9s\n",
      "660:\tlearn: 0.0848815\ttotal: 1m 33s\tremaining: 47.8s\n",
      "661:\tlearn: 0.0848639\ttotal: 1m 33s\tremaining: 47.7s\n",
      "662:\tlearn: 0.0847149\ttotal: 1m 33s\tremaining: 47.5s\n",
      "663:\tlearn: 0.0846850\ttotal: 1m 33s\tremaining: 47.4s\n",
      "664:\tlearn: 0.0845029\ttotal: 1m 33s\tremaining: 47.2s\n",
      "665:\tlearn: 0.0844738\ttotal: 1m 33s\tremaining: 47.1s\n",
      "666:\tlearn: 0.0843100\ttotal: 1m 34s\tremaining: 47s\n",
      "667:\tlearn: 0.0842943\ttotal: 1m 34s\tremaining: 46.8s\n",
      "668:\tlearn: 0.0842145\ttotal: 1m 34s\tremaining: 46.7s\n",
      "669:\tlearn: 0.0841107\ttotal: 1m 34s\tremaining: 46.5s\n",
      "670:\tlearn: 0.0840952\ttotal: 1m 34s\tremaining: 46.4s\n",
      "671:\tlearn: 0.0839336\ttotal: 1m 34s\tremaining: 46.2s\n",
      "672:\tlearn: 0.0838036\ttotal: 1m 34s\tremaining: 46.1s\n",
      "673:\tlearn: 0.0837580\ttotal: 1m 35s\tremaining: 46s\n",
      "674:\tlearn: 0.0837274\ttotal: 1m 35s\tremaining: 45.8s\n",
      "675:\tlearn: 0.0837149\ttotal: 1m 35s\tremaining: 45.7s\n",
      "676:\tlearn: 0.0835440\ttotal: 1m 35s\tremaining: 45.6s\n",
      "677:\tlearn: 0.0835288\ttotal: 1m 35s\tremaining: 45.4s\n",
      "678:\tlearn: 0.0834467\ttotal: 1m 35s\tremaining: 45.3s\n",
      "679:\tlearn: 0.0834319\ttotal: 1m 35s\tremaining: 45.2s\n",
      "680:\tlearn: 0.0832804\ttotal: 1m 36s\tremaining: 45s\n",
      "681:\tlearn: 0.0832593\ttotal: 1m 36s\tremaining: 44.9s\n",
      "682:\tlearn: 0.0831348\ttotal: 1m 36s\tremaining: 44.7s\n",
      "683:\tlearn: 0.0830144\ttotal: 1m 36s\tremaining: 44.6s\n",
      "684:\tlearn: 0.0829998\ttotal: 1m 36s\tremaining: 44.5s\n",
      "685:\tlearn: 0.0829021\ttotal: 1m 36s\tremaining: 44.3s\n",
      "686:\tlearn: 0.0828754\ttotal: 1m 36s\tremaining: 44.2s\n",
      "687:\tlearn: 0.0827326\ttotal: 1m 37s\tremaining: 44s\n",
      "688:\tlearn: 0.0827203\ttotal: 1m 37s\tremaining: 43.9s\n",
      "689:\tlearn: 0.0827059\ttotal: 1m 37s\tremaining: 43.7s\n",
      "690:\tlearn: 0.0826898\ttotal: 1m 37s\tremaining: 43.6s\n",
      "691:\tlearn: 0.0825214\ttotal: 1m 37s\tremaining: 43.5s\n",
      "692:\tlearn: 0.0824298\ttotal: 1m 37s\tremaining: 43.3s\n",
      "693:\tlearn: 0.0824158\ttotal: 1m 37s\tremaining: 43.2s\n",
      "694:\tlearn: 0.0823767\ttotal: 1m 38s\tremaining: 43.1s\n",
      "695:\tlearn: 0.0822458\ttotal: 1m 38s\tremaining: 42.9s\n",
      "696:\tlearn: 0.0822319\ttotal: 1m 38s\tremaining: 42.8s\n",
      "697:\tlearn: 0.0822190\ttotal: 1m 38s\tremaining: 42.6s\n",
      "698:\tlearn: 0.0821201\ttotal: 1m 38s\tremaining: 42.5s\n",
      "699:\tlearn: 0.0821075\ttotal: 1m 38s\tremaining: 42.3s\n",
      "700:\tlearn: 0.0820384\ttotal: 1m 38s\tremaining: 42.2s\n",
      "701:\tlearn: 0.0818809\ttotal: 1m 39s\tremaining: 42.1s\n",
      "702:\tlearn: 0.0818616\ttotal: 1m 39s\tremaining: 41.9s\n",
      "703:\tlearn: 0.0818485\ttotal: 1m 39s\tremaining: 41.8s\n",
      "704:\tlearn: 0.0817634\ttotal: 1m 39s\tremaining: 41.6s\n",
      "705:\tlearn: 0.0817510\ttotal: 1m 39s\tremaining: 41.5s\n",
      "706:\tlearn: 0.0816740\ttotal: 1m 39s\tremaining: 41.4s\n",
      "707:\tlearn: 0.0816592\ttotal: 1m 39s\tremaining: 41.2s\n",
      "708:\tlearn: 0.0815316\ttotal: 1m 40s\tremaining: 41.1s\n",
      "709:\tlearn: 0.0815183\ttotal: 1m 40s\tremaining: 41s\n",
      "710:\tlearn: 0.0813025\ttotal: 1m 40s\tremaining: 40.8s\n",
      "711:\tlearn: 0.0812829\ttotal: 1m 40s\tremaining: 40.7s\n",
      "712:\tlearn: 0.0812656\ttotal: 1m 40s\tremaining: 40.6s\n",
      "713:\tlearn: 0.0812524\ttotal: 1m 40s\tremaining: 40.4s\n",
      "714:\tlearn: 0.0812267\ttotal: 1m 41s\tremaining: 40.3s\n",
      "715:\tlearn: 0.0811208\ttotal: 1m 41s\tremaining: 40.1s\n",
      "716:\tlearn: 0.0810898\ttotal: 1m 41s\tremaining: 40s\n",
      "717:\tlearn: 0.0810310\ttotal: 1m 41s\tremaining: 39.9s\n",
      "718:\tlearn: 0.0808850\ttotal: 1m 41s\tremaining: 39.7s\n",
      "719:\tlearn: 0.0807169\ttotal: 1m 41s\tremaining: 39.6s\n",
      "720:\tlearn: 0.0805954\ttotal: 1m 41s\tremaining: 39.5s\n",
      "721:\tlearn: 0.0805674\ttotal: 1m 42s\tremaining: 39.3s\n",
      "722:\tlearn: 0.0805540\ttotal: 1m 42s\tremaining: 39.2s\n",
      "723:\tlearn: 0.0804508\ttotal: 1m 42s\tremaining: 39s\n",
      "724:\tlearn: 0.0803858\ttotal: 1m 42s\tremaining: 38.9s\n",
      "725:\tlearn: 0.0802253\ttotal: 1m 42s\tremaining: 38.7s\n",
      "726:\tlearn: 0.0800779\ttotal: 1m 42s\tremaining: 38.6s\n",
      "727:\tlearn: 0.0800658\ttotal: 1m 42s\tremaining: 38.4s\n",
      "728:\tlearn: 0.0798508\ttotal: 1m 43s\tremaining: 38.3s\n",
      "729:\tlearn: 0.0796914\ttotal: 1m 43s\tremaining: 38.2s\n",
      "730:\tlearn: 0.0796457\ttotal: 1m 43s\tremaining: 38s\n",
      "731:\tlearn: 0.0795670\ttotal: 1m 43s\tremaining: 37.9s\n",
      "732:\tlearn: 0.0795545\ttotal: 1m 43s\tremaining: 37.7s\n",
      "733:\tlearn: 0.0793286\ttotal: 1m 43s\tremaining: 37.6s\n",
      "734:\tlearn: 0.0792445\ttotal: 1m 43s\tremaining: 37.4s\n",
      "735:\tlearn: 0.0792319\ttotal: 1m 44s\tremaining: 37.3s\n",
      "736:\tlearn: 0.0791732\ttotal: 1m 44s\tremaining: 37.2s\n",
      "737:\tlearn: 0.0791058\ttotal: 1m 44s\tremaining: 37s\n",
      "738:\tlearn: 0.0790163\ttotal: 1m 44s\tremaining: 36.9s\n",
      "739:\tlearn: 0.0789313\ttotal: 1m 44s\tremaining: 36.7s\n",
      "740:\tlearn: 0.0789171\ttotal: 1m 44s\tremaining: 36.6s\n",
      "741:\tlearn: 0.0787329\ttotal: 1m 44s\tremaining: 36.4s\n",
      "742:\tlearn: 0.0787065\ttotal: 1m 44s\tremaining: 36.3s\n",
      "743:\tlearn: 0.0786946\ttotal: 1m 45s\tremaining: 36.2s\n",
      "744:\tlearn: 0.0785621\ttotal: 1m 45s\tremaining: 36s\n",
      "745:\tlearn: 0.0784894\ttotal: 1m 45s\tremaining: 35.9s\n",
      "746:\tlearn: 0.0783560\ttotal: 1m 45s\tremaining: 35.7s\n",
      "747:\tlearn: 0.0782678\ttotal: 1m 45s\tremaining: 35.6s\n",
      "748:\tlearn: 0.0782557\ttotal: 1m 45s\tremaining: 35.5s\n",
      "749:\tlearn: 0.0781768\ttotal: 1m 46s\tremaining: 35.4s\n",
      "750:\tlearn: 0.0780839\ttotal: 1m 46s\tremaining: 35.2s\n",
      "751:\tlearn: 0.0779699\ttotal: 1m 46s\tremaining: 35.1s\n",
      "752:\tlearn: 0.0779580\ttotal: 1m 46s\tremaining: 34.9s\n",
      "753:\tlearn: 0.0779455\ttotal: 1m 46s\tremaining: 34.8s\n",
      "754:\tlearn: 0.0779278\ttotal: 1m 46s\tremaining: 34.7s\n",
      "755:\tlearn: 0.0778993\ttotal: 1m 47s\tremaining: 34.6s\n",
      "756:\tlearn: 0.0778612\ttotal: 1m 47s\tremaining: 34.5s\n",
      "757:\tlearn: 0.0777488\ttotal: 1m 47s\tremaining: 34.4s\n",
      "758:\tlearn: 0.0777372\ttotal: 1m 47s\tremaining: 34.2s\n",
      "759:\tlearn: 0.0777151\ttotal: 1m 47s\tremaining: 34.1s\n",
      "760:\tlearn: 0.0776965\ttotal: 1m 48s\tremaining: 34s\n",
      "761:\tlearn: 0.0776853\ttotal: 1m 48s\tremaining: 33.8s\n",
      "762:\tlearn: 0.0775898\ttotal: 1m 48s\tremaining: 33.7s\n",
      "763:\tlearn: 0.0775657\ttotal: 1m 48s\tremaining: 33.5s\n",
      "764:\tlearn: 0.0775375\ttotal: 1m 48s\tremaining: 33.4s\n",
      "765:\tlearn: 0.0774190\ttotal: 1m 48s\tremaining: 33.3s\n",
      "766:\tlearn: 0.0774060\ttotal: 1m 48s\tremaining: 33.1s\n",
      "767:\tlearn: 0.0773318\ttotal: 1m 49s\tremaining: 33s\n",
      "768:\tlearn: 0.0772740\ttotal: 1m 49s\tremaining: 32.8s\n",
      "769:\tlearn: 0.0772630\ttotal: 1m 49s\tremaining: 32.7s\n",
      "770:\tlearn: 0.0772506\ttotal: 1m 49s\tremaining: 32.5s\n",
      "771:\tlearn: 0.0771758\ttotal: 1m 49s\tremaining: 32.4s\n",
      "772:\tlearn: 0.0770545\ttotal: 1m 49s\tremaining: 32.2s\n",
      "773:\tlearn: 0.0769039\ttotal: 1m 49s\tremaining: 32.1s\n",
      "774:\tlearn: 0.0768930\ttotal: 1m 50s\tremaining: 32s\n",
      "775:\tlearn: 0.0768795\ttotal: 1m 50s\tremaining: 31.8s\n",
      "776:\tlearn: 0.0768686\ttotal: 1m 50s\tremaining: 31.7s\n",
      "777:\tlearn: 0.0768577\ttotal: 1m 50s\tremaining: 31.5s\n",
      "778:\tlearn: 0.0767565\ttotal: 1m 50s\tremaining: 31.4s\n",
      "779:\tlearn: 0.0767447\ttotal: 1m 50s\tremaining: 31.3s\n",
      "780:\tlearn: 0.0766433\ttotal: 1m 50s\tremaining: 31.1s\n",
      "781:\tlearn: 0.0765713\ttotal: 1m 51s\tremaining: 31s\n",
      "782:\tlearn: 0.0764707\ttotal: 1m 51s\tremaining: 30.8s\n",
      "783:\tlearn: 0.0764600\ttotal: 1m 51s\tremaining: 30.7s\n",
      "784:\tlearn: 0.0764213\ttotal: 1m 51s\tremaining: 30.5s\n",
      "785:\tlearn: 0.0764023\ttotal: 1m 51s\tremaining: 30.4s\n",
      "786:\tlearn: 0.0762200\ttotal: 1m 51s\tremaining: 30.3s\n",
      "787:\tlearn: 0.0762007\ttotal: 1m 51s\tremaining: 30.1s\n",
      "788:\tlearn: 0.0761253\ttotal: 1m 52s\tremaining: 30s\n",
      "789:\tlearn: 0.0760969\ttotal: 1m 52s\tremaining: 29.8s\n",
      "790:\tlearn: 0.0759552\ttotal: 1m 52s\tremaining: 29.7s\n",
      "791:\tlearn: 0.0758902\ttotal: 1m 52s\tremaining: 29.6s\n",
      "792:\tlearn: 0.0757554\ttotal: 1m 52s\tremaining: 29.4s\n",
      "793:\tlearn: 0.0757447\ttotal: 1m 52s\tremaining: 29.3s\n",
      "794:\tlearn: 0.0756481\ttotal: 1m 52s\tremaining: 29.1s\n",
      "795:\tlearn: 0.0756376\ttotal: 1m 53s\tremaining: 29s\n",
      "796:\tlearn: 0.0756265\ttotal: 1m 53s\tremaining: 28.8s\n",
      "797:\tlearn: 0.0756045\ttotal: 1m 53s\tremaining: 28.7s\n",
      "798:\tlearn: 0.0754904\ttotal: 1m 53s\tremaining: 28.6s\n",
      "799:\tlearn: 0.0754317\ttotal: 1m 53s\tremaining: 28.4s\n",
      "800:\tlearn: 0.0753316\ttotal: 1m 53s\tremaining: 28.3s\n",
      "801:\tlearn: 0.0752360\ttotal: 1m 53s\tremaining: 28.1s\n",
      "802:\tlearn: 0.0751058\ttotal: 1m 54s\tremaining: 28s\n",
      "803:\tlearn: 0.0750228\ttotal: 1m 54s\tremaining: 27.8s\n",
      "804:\tlearn: 0.0749277\ttotal: 1m 54s\tremaining: 27.7s\n",
      "805:\tlearn: 0.0749050\ttotal: 1m 54s\tremaining: 27.6s\n",
      "806:\tlearn: 0.0748557\ttotal: 1m 54s\tremaining: 27.4s\n",
      "807:\tlearn: 0.0748443\ttotal: 1m 54s\tremaining: 27.3s\n",
      "808:\tlearn: 0.0748177\ttotal: 1m 54s\tremaining: 27.1s\n",
      "809:\tlearn: 0.0747333\ttotal: 1m 55s\tremaining: 27s\n",
      "810:\tlearn: 0.0747002\ttotal: 1m 55s\tremaining: 26.8s\n",
      "811:\tlearn: 0.0745993\ttotal: 1m 55s\tremaining: 26.7s\n",
      "812:\tlearn: 0.0745590\ttotal: 1m 55s\tremaining: 26.6s\n",
      "813:\tlearn: 0.0745441\ttotal: 1m 55s\tremaining: 26.4s\n",
      "814:\tlearn: 0.0744731\ttotal: 1m 55s\tremaining: 26.3s\n",
      "815:\tlearn: 0.0743830\ttotal: 1m 55s\tremaining: 26.1s\n",
      "816:\tlearn: 0.0743732\ttotal: 1m 55s\tremaining: 26s\n",
      "817:\tlearn: 0.0743620\ttotal: 1m 56s\tremaining: 25.8s\n",
      "818:\tlearn: 0.0742550\ttotal: 1m 56s\tremaining: 25.7s\n",
      "819:\tlearn: 0.0741643\ttotal: 1m 56s\tremaining: 25.6s\n",
      "820:\tlearn: 0.0741020\ttotal: 1m 56s\tremaining: 25.4s\n",
      "821:\tlearn: 0.0739733\ttotal: 1m 56s\tremaining: 25.3s\n",
      "822:\tlearn: 0.0739492\ttotal: 1m 56s\tremaining: 25.1s\n",
      "823:\tlearn: 0.0738067\ttotal: 1m 57s\tremaining: 25s\n",
      "824:\tlearn: 0.0737734\ttotal: 1m 57s\tremaining: 24.9s\n",
      "825:\tlearn: 0.0737551\ttotal: 1m 57s\tremaining: 24.7s\n",
      "826:\tlearn: 0.0736323\ttotal: 1m 57s\tremaining: 24.6s\n",
      "827:\tlearn: 0.0736226\ttotal: 1m 57s\tremaining: 24.4s\n",
      "828:\tlearn: 0.0735013\ttotal: 1m 57s\tremaining: 24.3s\n",
      "829:\tlearn: 0.0734885\ttotal: 1m 57s\tremaining: 24.1s\n",
      "830:\tlearn: 0.0734684\ttotal: 1m 57s\tremaining: 24s\n",
      "831:\tlearn: 0.0734576\ttotal: 1m 58s\tremaining: 23.9s\n",
      "832:\tlearn: 0.0734378\ttotal: 1m 58s\tremaining: 23.7s\n",
      "833:\tlearn: 0.0733116\ttotal: 1m 58s\tremaining: 23.6s\n",
      "834:\tlearn: 0.0732286\ttotal: 1m 58s\tremaining: 23.4s\n",
      "835:\tlearn: 0.0732193\ttotal: 1m 58s\tremaining: 23.3s\n",
      "836:\tlearn: 0.0731648\ttotal: 1m 58s\tremaining: 23.1s\n",
      "837:\tlearn: 0.0730666\ttotal: 1m 58s\tremaining: 23s\n",
      "838:\tlearn: 0.0729818\ttotal: 1m 59s\tremaining: 22.9s\n",
      "839:\tlearn: 0.0729222\ttotal: 1m 59s\tremaining: 22.7s\n",
      "840:\tlearn: 0.0729075\ttotal: 1m 59s\tremaining: 22.6s\n",
      "841:\tlearn: 0.0728980\ttotal: 1m 59s\tremaining: 22.4s\n",
      "842:\tlearn: 0.0728138\ttotal: 1m 59s\tremaining: 22.3s\n",
      "843:\tlearn: 0.0727656\ttotal: 1m 59s\tremaining: 22.1s\n",
      "844:\tlearn: 0.0727463\ttotal: 1m 59s\tremaining: 22s\n",
      "845:\tlearn: 0.0726696\ttotal: 2m\tremaining: 21.9s\n",
      "846:\tlearn: 0.0726514\ttotal: 2m\tremaining: 21.7s\n",
      "847:\tlearn: 0.0726160\ttotal: 2m\tremaining: 21.6s\n",
      "848:\tlearn: 0.0726039\ttotal: 2m\tremaining: 21.4s\n",
      "849:\tlearn: 0.0725746\ttotal: 2m\tremaining: 21.3s\n",
      "850:\tlearn: 0.0724834\ttotal: 2m\tremaining: 21.1s\n",
      "851:\tlearn: 0.0723855\ttotal: 2m\tremaining: 21s\n",
      "852:\tlearn: 0.0723765\ttotal: 2m 1s\tremaining: 20.9s\n",
      "853:\tlearn: 0.0723564\ttotal: 2m 1s\tremaining: 20.7s\n",
      "854:\tlearn: 0.0722650\ttotal: 2m 1s\tremaining: 20.6s\n",
      "855:\tlearn: 0.0722559\ttotal: 2m 1s\tremaining: 20.4s\n",
      "856:\tlearn: 0.0722289\ttotal: 2m 1s\tremaining: 20.3s\n",
      "857:\tlearn: 0.0722151\ttotal: 2m 1s\tremaining: 20.2s\n",
      "858:\tlearn: 0.0720515\ttotal: 2m 2s\tremaining: 20s\n",
      "859:\tlearn: 0.0720415\ttotal: 2m 2s\tremaining: 19.9s\n",
      "860:\tlearn: 0.0720258\ttotal: 2m 2s\tremaining: 19.7s\n",
      "861:\tlearn: 0.0719089\ttotal: 2m 2s\tremaining: 19.6s\n",
      "862:\tlearn: 0.0718513\ttotal: 2m 2s\tremaining: 19.5s\n",
      "863:\tlearn: 0.0718353\ttotal: 2m 2s\tremaining: 19.3s\n",
      "864:\tlearn: 0.0717039\ttotal: 2m 2s\tremaining: 19.2s\n",
      "865:\tlearn: 0.0716294\ttotal: 2m 3s\tremaining: 19s\n",
      "866:\tlearn: 0.0716195\ttotal: 2m 3s\tremaining: 18.9s\n",
      "867:\tlearn: 0.0715821\ttotal: 2m 3s\tremaining: 18.8s\n",
      "868:\tlearn: 0.0714643\ttotal: 2m 3s\tremaining: 18.6s\n",
      "869:\tlearn: 0.0713747\ttotal: 2m 3s\tremaining: 18.5s\n",
      "870:\tlearn: 0.0713612\ttotal: 2m 3s\tremaining: 18.3s\n",
      "871:\tlearn: 0.0712945\ttotal: 2m 3s\tremaining: 18.2s\n",
      "872:\tlearn: 0.0712041\ttotal: 2m 4s\tremaining: 18.1s\n",
      "873:\tlearn: 0.0711412\ttotal: 2m 4s\tremaining: 17.9s\n",
      "874:\tlearn: 0.0711154\ttotal: 2m 4s\tremaining: 17.8s\n",
      "875:\tlearn: 0.0710746\ttotal: 2m 4s\tremaining: 17.6s\n",
      "876:\tlearn: 0.0709733\ttotal: 2m 4s\tremaining: 17.5s\n",
      "877:\tlearn: 0.0709573\ttotal: 2m 4s\tremaining: 17.3s\n",
      "878:\tlearn: 0.0708873\ttotal: 2m 4s\tremaining: 17.2s\n",
      "879:\tlearn: 0.0707870\ttotal: 2m 5s\tremaining: 17.1s\n",
      "880:\tlearn: 0.0707578\ttotal: 2m 5s\tremaining: 16.9s\n",
      "881:\tlearn: 0.0707462\ttotal: 2m 5s\tremaining: 16.8s\n",
      "882:\tlearn: 0.0707348\ttotal: 2m 5s\tremaining: 16.6s\n",
      "883:\tlearn: 0.0706571\ttotal: 2m 5s\tremaining: 16.5s\n",
      "884:\tlearn: 0.0706019\ttotal: 2m 5s\tremaining: 16.3s\n",
      "885:\tlearn: 0.0705119\ttotal: 2m 5s\tremaining: 16.2s\n",
      "886:\tlearn: 0.0703338\ttotal: 2m 6s\tremaining: 16.1s\n",
      "887:\tlearn: 0.0703250\ttotal: 2m 6s\tremaining: 15.9s\n",
      "888:\tlearn: 0.0703043\ttotal: 2m 6s\tremaining: 15.8s\n",
      "889:\tlearn: 0.0701698\ttotal: 2m 6s\tremaining: 15.6s\n",
      "890:\tlearn: 0.0701502\ttotal: 2m 6s\tremaining: 15.5s\n",
      "891:\tlearn: 0.0701415\ttotal: 2m 6s\tremaining: 15.3s\n",
      "892:\tlearn: 0.0701214\ttotal: 2m 6s\tremaining: 15.2s\n",
      "893:\tlearn: 0.0700135\ttotal: 2m 7s\tremaining: 15.1s\n",
      "894:\tlearn: 0.0700049\ttotal: 2m 7s\tremaining: 14.9s\n",
      "895:\tlearn: 0.0699874\ttotal: 2m 7s\tremaining: 14.8s\n",
      "896:\tlearn: 0.0699507\ttotal: 2m 7s\tremaining: 14.7s\n",
      "897:\tlearn: 0.0697997\ttotal: 2m 7s\tremaining: 14.5s\n",
      "898:\tlearn: 0.0697904\ttotal: 2m 7s\tremaining: 14.4s\n",
      "899:\tlearn: 0.0697691\ttotal: 2m 8s\tremaining: 14.2s\n",
      "900:\tlearn: 0.0697433\ttotal: 2m 8s\tremaining: 14.1s\n",
      "901:\tlearn: 0.0696383\ttotal: 2m 8s\tremaining: 13.9s\n",
      "902:\tlearn: 0.0696206\ttotal: 2m 8s\tremaining: 13.8s\n",
      "903:\tlearn: 0.0695990\ttotal: 2m 8s\tremaining: 13.7s\n",
      "904:\tlearn: 0.0695360\ttotal: 2m 8s\tremaining: 13.5s\n",
      "905:\tlearn: 0.0694609\ttotal: 2m 8s\tremaining: 13.4s\n",
      "906:\tlearn: 0.0693016\ttotal: 2m 9s\tremaining: 13.2s\n",
      "907:\tlearn: 0.0692308\ttotal: 2m 9s\tremaining: 13.1s\n",
      "908:\tlearn: 0.0691541\ttotal: 2m 9s\tremaining: 12.9s\n",
      "909:\tlearn: 0.0691455\ttotal: 2m 9s\tremaining: 12.8s\n",
      "910:\tlearn: 0.0691227\ttotal: 2m 9s\tremaining: 12.7s\n",
      "911:\tlearn: 0.0690114\ttotal: 2m 9s\tremaining: 12.5s\n",
      "912:\tlearn: 0.0689367\ttotal: 2m 9s\tremaining: 12.4s\n",
      "913:\tlearn: 0.0687836\ttotal: 2m 9s\tremaining: 12.2s\n",
      "914:\tlearn: 0.0687188\ttotal: 2m 10s\tremaining: 12.1s\n",
      "915:\tlearn: 0.0686251\ttotal: 2m 10s\tremaining: 11.9s\n",
      "916:\tlearn: 0.0684961\ttotal: 2m 10s\tremaining: 11.8s\n",
      "917:\tlearn: 0.0684772\ttotal: 2m 10s\tremaining: 11.7s\n",
      "918:\tlearn: 0.0684067\ttotal: 2m 10s\tremaining: 11.5s\n",
      "919:\tlearn: 0.0683656\ttotal: 2m 10s\tremaining: 11.4s\n",
      "920:\tlearn: 0.0682686\ttotal: 2m 10s\tremaining: 11.2s\n",
      "921:\tlearn: 0.0681292\ttotal: 2m 11s\tremaining: 11.1s\n",
      "922:\tlearn: 0.0680750\ttotal: 2m 11s\tremaining: 10.9s\n",
      "923:\tlearn: 0.0680438\ttotal: 2m 11s\tremaining: 10.8s\n",
      "924:\tlearn: 0.0680354\ttotal: 2m 11s\tremaining: 10.7s\n",
      "925:\tlearn: 0.0680257\ttotal: 2m 11s\tremaining: 10.5s\n",
      "926:\tlearn: 0.0680055\ttotal: 2m 11s\tremaining: 10.4s\n",
      "927:\tlearn: 0.0679969\ttotal: 2m 11s\tremaining: 10.2s\n",
      "928:\tlearn: 0.0679837\ttotal: 2m 12s\tremaining: 10.1s\n",
      "929:\tlearn: 0.0678985\ttotal: 2m 12s\tremaining: 9.95s\n",
      "930:\tlearn: 0.0678894\ttotal: 2m 12s\tremaining: 9.8s\n",
      "931:\tlearn: 0.0678260\ttotal: 2m 12s\tremaining: 9.66s\n",
      "932:\tlearn: 0.0677972\ttotal: 2m 12s\tremaining: 9.52s\n",
      "933:\tlearn: 0.0677244\ttotal: 2m 12s\tremaining: 9.38s\n",
      "934:\tlearn: 0.0676654\ttotal: 2m 12s\tremaining: 9.23s\n",
      "935:\tlearn: 0.0676339\ttotal: 2m 12s\tremaining: 9.09s\n",
      "936:\tlearn: 0.0676203\ttotal: 2m 13s\tremaining: 8.95s\n",
      "937:\tlearn: 0.0675581\ttotal: 2m 13s\tremaining: 8.8s\n",
      "938:\tlearn: 0.0674777\ttotal: 2m 13s\tremaining: 8.66s\n",
      "939:\tlearn: 0.0674686\ttotal: 2m 13s\tremaining: 8.52s\n",
      "940:\tlearn: 0.0674594\ttotal: 2m 13s\tremaining: 8.38s\n",
      "941:\tlearn: 0.0674382\ttotal: 2m 13s\tremaining: 8.23s\n",
      "942:\tlearn: 0.0674056\ttotal: 2m 13s\tremaining: 8.09s\n",
      "943:\tlearn: 0.0673441\ttotal: 2m 14s\tremaining: 7.95s\n",
      "944:\tlearn: 0.0673356\ttotal: 2m 14s\tremaining: 7.81s\n",
      "945:\tlearn: 0.0672901\ttotal: 2m 14s\tremaining: 7.66s\n",
      "946:\tlearn: 0.0672512\ttotal: 2m 14s\tremaining: 7.52s\n",
      "947:\tlearn: 0.0672427\ttotal: 2m 14s\tremaining: 7.38s\n",
      "948:\tlearn: 0.0672336\ttotal: 2m 14s\tremaining: 7.24s\n",
      "949:\tlearn: 0.0671167\ttotal: 2m 14s\tremaining: 7.09s\n",
      "950:\tlearn: 0.0670934\ttotal: 2m 14s\tremaining: 6.95s\n",
      "951:\tlearn: 0.0670343\ttotal: 2m 15s\tremaining: 6.81s\n",
      "952:\tlearn: 0.0670264\ttotal: 2m 15s\tremaining: 6.67s\n",
      "953:\tlearn: 0.0669717\ttotal: 2m 15s\tremaining: 6.53s\n",
      "954:\tlearn: 0.0669505\ttotal: 2m 15s\tremaining: 6.38s\n",
      "955:\tlearn: 0.0669111\ttotal: 2m 15s\tremaining: 6.24s\n",
      "956:\tlearn: 0.0669028\ttotal: 2m 15s\tremaining: 6.1s\n",
      "957:\tlearn: 0.0668743\ttotal: 2m 15s\tremaining: 5.96s\n",
      "958:\tlearn: 0.0668148\ttotal: 2m 16s\tremaining: 5.82s\n",
      "959:\tlearn: 0.0668070\ttotal: 2m 16s\tremaining: 5.67s\n",
      "960:\tlearn: 0.0667929\ttotal: 2m 16s\tremaining: 5.53s\n",
      "961:\tlearn: 0.0667842\ttotal: 2m 16s\tremaining: 5.39s\n",
      "962:\tlearn: 0.0667379\ttotal: 2m 16s\tremaining: 5.25s\n",
      "963:\tlearn: 0.0667259\ttotal: 2m 16s\tremaining: 5.1s\n",
      "964:\tlearn: 0.0666121\ttotal: 2m 16s\tremaining: 4.96s\n",
      "965:\tlearn: 0.0665932\ttotal: 2m 16s\tremaining: 4.82s\n",
      "966:\tlearn: 0.0665524\ttotal: 2m 17s\tremaining: 4.68s\n",
      "967:\tlearn: 0.0664526\ttotal: 2m 17s\tremaining: 4.54s\n",
      "968:\tlearn: 0.0664033\ttotal: 2m 17s\tremaining: 4.39s\n",
      "969:\tlearn: 0.0662941\ttotal: 2m 17s\tremaining: 4.25s\n",
      "970:\tlearn: 0.0662860\ttotal: 2m 17s\tremaining: 4.11s\n",
      "971:\tlearn: 0.0661656\ttotal: 2m 17s\tremaining: 3.97s\n",
      "972:\tlearn: 0.0660863\ttotal: 2m 17s\tremaining: 3.83s\n",
      "973:\tlearn: 0.0660190\ttotal: 2m 18s\tremaining: 3.68s\n",
      "974:\tlearn: 0.0659596\ttotal: 2m 18s\tremaining: 3.54s\n",
      "975:\tlearn: 0.0659520\ttotal: 2m 18s\tremaining: 3.4s\n",
      "976:\tlearn: 0.0658399\ttotal: 2m 18s\tremaining: 3.26s\n",
      "977:\tlearn: 0.0658281\ttotal: 2m 18s\tremaining: 3.12s\n",
      "978:\tlearn: 0.0657710\ttotal: 2m 18s\tremaining: 2.98s\n",
      "979:\tlearn: 0.0657539\ttotal: 2m 18s\tremaining: 2.83s\n",
      "980:\tlearn: 0.0655697\ttotal: 2m 18s\tremaining: 2.69s\n",
      "981:\tlearn: 0.0655617\ttotal: 2m 19s\tremaining: 2.55s\n",
      "982:\tlearn: 0.0654577\ttotal: 2m 19s\tremaining: 2.41s\n",
      "983:\tlearn: 0.0654497\ttotal: 2m 19s\tremaining: 2.27s\n",
      "984:\tlearn: 0.0652909\ttotal: 2m 19s\tremaining: 2.12s\n",
      "985:\tlearn: 0.0652277\ttotal: 2m 19s\tremaining: 1.98s\n",
      "986:\tlearn: 0.0652202\ttotal: 2m 19s\tremaining: 1.84s\n",
      "987:\tlearn: 0.0650560\ttotal: 2m 19s\tremaining: 1.7s\n",
      "988:\tlearn: 0.0650478\ttotal: 2m 20s\tremaining: 1.56s\n",
      "989:\tlearn: 0.0649868\ttotal: 2m 20s\tremaining: 1.42s\n",
      "990:\tlearn: 0.0648986\ttotal: 2m 20s\tremaining: 1.27s\n",
      "991:\tlearn: 0.0648801\ttotal: 2m 20s\tremaining: 1.13s\n",
      "992:\tlearn: 0.0648724\ttotal: 2m 20s\tremaining: 991ms\n",
      "993:\tlearn: 0.0647867\ttotal: 2m 20s\tremaining: 850ms\n",
      "994:\tlearn: 0.0646287\ttotal: 2m 20s\tremaining: 708ms\n",
      "995:\tlearn: 0.0646023\ttotal: 2m 21s\tremaining: 566ms\n",
      "996:\tlearn: 0.0645563\ttotal: 2m 21s\tremaining: 425ms\n",
      "997:\tlearn: 0.0645301\ttotal: 2m 21s\tremaining: 283ms\n",
      "998:\tlearn: 0.0645186\ttotal: 2m 21s\tremaining: 142ms\n",
      "999:\tlearn: 0.0645114\ttotal: 2m 21s\tremaining: 0us\n",
      "CatBoost Classifier Results:\n",
      "+----------------------+----------+\n",
      "| Metrics              |    Value |\n",
      "+======================+==========+\n",
      "| Accuracy             |  96.7332 |\n",
      "+----------------------+----------+\n",
      "| Precision            |  94.2171 |\n",
      "+----------------------+----------+\n",
      "| Recall               |  99.3433 |\n",
      "+----------------------+----------+\n",
      "| F1_score             |  96.7123 |\n",
      "+----------------------+----------+\n",
      "| ROC_AUC              |  99.5326 |\n",
      "+----------------------+----------+\n",
      "| Time Taken (seconds) | 162.1    |\n",
      "+----------------------+----------+\n",
      "\n",
      "Classification report for CatBoost:\n",
      "               precision    recall  f1-score   support\n",
      "\n",
      "           0       0.99      0.94      0.97      1138\n",
      "           1       0.94      0.99      0.97      1066\n",
      "\n",
      "    accuracy                           0.97      2204\n",
      "   macro avg       0.97      0.97      0.97      2204\n",
      "weighted avg       0.97      0.97      0.97      2204\n",
      "\n"
     ]
    },
    {
     "data": {
      "text/plain": [
       "['Models/catboost.joblib']"
      ]
     },
     "execution_count": 36,
     "metadata": {},
     "output_type": "execute_result"
    },
    {
     "data": {
      "image/png": "[encoded data removed]",
      "text/plain": [
       "<Figure size 1000x500 with 2 Axes>"
      ]
     },
     "metadata": {},
     "output_type": "display_data"
    }
   ],
   "source": [
    "# Initialize and train the CatBoost model\n",
    "from catboost import CatBoostClassifier\n",
    "catboost_model = CatBoostClassifier()\n",
    "\n",
    "# Model training\n",
    "start_time = time.time()\n",
    "catboost_model.fit(x_train, y_train)\n",
    "\n",
    "# Model testing\n",
    "y_pred_catboost = catboost_model.predict(x_test)\n",
    "end_time = time.time()\n",
    "\n",
    "# Evaluation metrics\n",
    "acc_catboost = accuracy_score(y_test, y_pred_catboost) * 100\n",
    "pre_catboost = precision_score(y_test, y_pred_catboost) * 100\n",
    "recall_catboost = recall_score(y_test, y_pred_catboost) * 100\n",
    "f1_catboost = f1_score(y_test, y_pred_catboost) * 100\n",
    "roc_auc_catboost = roc_auc_score(y_test, catboost_model.predict_proba(x_test)[:, 1]) * 100\n",
    "report_catboost = classification_report(y_test, y_pred_catboost)\n",
    "\n",
    "# Calculate time taken for training and prediction\n",
    "execution_time_catboost = end_time - start_time\n",
    "\n",
    "# Store results in a dictionary for CatBoost\n",
    "results_catboost = {\n",
    "    'Accuracy': acc_catboost,\n",
    "    'Precision': pre_catboost,\n",
    "    'Recall': recall_catboost,\n",
    "    'F1_score': f1_catboost,\n",
    "    'ROC_AUC': roc_auc_catboost,\n",
    "    'Time Taken (seconds)': execution_time_catboost\n",
    "}\n",
    "\n",
    "# Display results in a table for CatBoost\n",
    "print(\"CatBoost Classifier Results:\")\n",
    "print(tabulate(results_catboost.items(), headers=[\"Metrics\", \"Value\"], tablefmt=\"grid\"))\n",
    "print('\\nClassification report for CatBoost:\\n', report_catboost)\n",
    "\n",
    "# plot the confusion matrix\n",
    "plt.figure(figsize=(10,5))\n",
    "sns.heatmap(confusion_matrix(y_test,y_pred_catboost),annot=True,fmt='0.2f',annot_kws={'size':10})\n",
    "\n",
    "# Save the model to a file\n",
    "joblib.dump(catboost_model, 'Models/catboost.joblib')"
   ]
  },
  {
   "cell_type": "markdown",
   "metadata": {},
   "source": [
    "# # Model comparision"
   ]
  },
  {
   "cell_type": "code",
   "execution_count": 37,
   "metadata": {},
   "outputs": [
    {
     "data": {
      "image/png": "[encoded data removed]",
      "text/plain": [
       "<Figure size 1000x600 with 1 Axes>"
      ]
     },
     "metadata": {},
     "output_type": "display_data"
    }
   ],
   "source": [
    "# Lists to store the metrics for each algorithm\n",
    "algorithms = ['Random Forest','SVC','Naive_bays','catboost']\n",
    "accuracies = [acc_rfc, acc_svc1,acc_nb,acc_catboost]\n",
    "precisions = [pre_rfc,pre_svc1,pre_nb,pre_catboost]\n",
    "recalls = [recall_rfc,recall_svc1,recall_nb,recall_catboost]\n",
    "f1_scores = [f1_rfc,f1_svc1,f1_nb,f1_catboost]\n",
    "\n",
    "x = np.arange(len(algorithms))\n",
    "bar_width = 0.2\n",
    "fig, ax = plt.subplots(figsize=(10, 6))\n",
    "ax.bar(x - 1.5 * bar_width, accuracies, bar_width, label='Accuracy', align='center')\n",
    "ax.bar(x - 0.5 * bar_width, precisions, bar_width, label='Precision', align='center')\n",
    "ax.bar(x + 0.5 * bar_width, recalls, bar_width, label='Recall', align='center')\n",
    "ax.bar(x + 1.5 * bar_width, f1_scores, bar_width, label='F1-score', align='center')\n",
    "ax.set_xlabel('Algorithms')\n",
    "ax.set_ylabel('Score')\n",
    "ax.set_title('Comparison of Metrics for Four Algorithms')\n",
    "ax.set_xticks(x)\n",
    "ax.set_xticklabels(algorithms)\n",
    "ax.legend()\n",
    "plt.tight_layout()\n",
    "plt.show()"
   ]
  },
  {
   "cell_type": "markdown",
   "metadata": {},
   "source": [
    "# **Prediction**"
   ]
  },
  {
   "cell_type": "code",
   "execution_count": 38,
   "metadata": {},
   "outputs": [
    {
     "name": "stderr",
     "output_type": "stream",
     "text": [
      "[nltk_data] Downloading package stopwords to\n",
      "[nltk_data]     C:\\Users\\0877\\AppData\\Roaming\\nltk_data...\n",
      "[nltk_data]   Package stopwords is already up-to-date!\n"
     ]
    }
   ],
   "source": [
    "import re\n",
    "import nltk\n",
    "from nltk.corpus import stopwords\n",
    "nltk.download('stopwords')\n",
    "\n",
    "from nltk.stem.porter import PorterStemmer\n",
    "ps = PorterStemmer()\n",
    "\n",
    "from sklearn.feature_extraction.text import HashingVectorizer\n",
    "vectorizer = HashingVectorizer(n_features=10000, norm=None, alternate_sign=False, stop_words='english')\n",
    "\n",
    "import joblib\n",
    "model = joblib.load(r\"Models\\random_forest.joblib\")\n",
    "\n",
    "\n",
    "def preprocess_text(input):\n",
    "    input = re.sub('[^a-zA-Z]', ' ', input)\n",
    "    input = input.lower()\n",
    "    input = input.split()\n",
    "    input = [ps.stem(word) for word in input if not word in stopwords.words('english')]\n",
    "    input = ' '.join(input)\n",
    "    return input\n",
    "\n",
    "\n",
    "def prediction_func(input):\n",
    "    preprocessed_text = preprocess_text(input)\n",
    "    vectorized_text = vectorizer.transform([preprocessed_text]).toarray()\n",
    "    # vectorized_input = hvectorizer.fit_transform(preprocessed_text).toarray()\n",
    "    prediction = model.predict(vectorized_text)\n",
    "\n",
    "    if prediction == 0:\n",
    "        print('This is a Ham Mail')\n",
    "    else:\n",
    "        print('This is a Spam Mail')"
   ]
  },
  {
   "cell_type": "code",
   "execution_count": 39,
   "metadata": {},
   "outputs": [
    {
     "name": "stdout",
     "output_type": "stream",
     "text": [
      "This is a Ham Mail\n"
     ]
    }
   ],
   "source": [
    "# Example for Ham mail\n",
    "prediction_func('''Subject: neon retreat\n",
    "ho ho ho , we ' re around to that most wonderful time of the year - - - neon leaders retreat time !\n",
    "i know that this time of year is extremely hectic , and that it ' s tough to think about anything past the holidays , but life does go on past the week of december 25 through january 1 , and that ' s what i ' d like you to think about for a minute .\n",
    "on the calender that i handed out at the beginning of the fall semester , the retreat was scheduled for the weekend of january 5 - 6 . but because of a youth ministers conference that brad and dustin are connected with that week , we ' re going to change the date to the following weekend , january 12 - 13 . now comes the part you need to think about .\n",
    "i think we all agree that it ' s important for us to get together and have some time to recharge our batteries before we get to far into the spring semester , but it can be a lot of trouble and difficult for us to get away without kids , etc . so , brad came up with a potential alternative for how we can get together on that weekend , and then you can let me know which you prefer .\n",
    "the first option would be to have a retreat similar to what we ' ve done the past several years . this year we could go to the heartland country inn ( www . . com ) outside of brenham . it ' s a nice place , where we ' d have a 13 - bedroom and a 5 - bedroom house side by side . it ' s in the country , real relaxing , but also close to brenham and only about one hour and 15 minutes from here . we can golf , shop in the antique and craft stores in brenham , eat dinner together at the ranch , and spend time with each other . we ' d meet on saturday , and then return on sunday morning , just like what we ' ve done in the past .\n",
    "the second option would be to stay here in houston , have dinner together at a nice restaurant , and then have dessert and a time for visiting and recharging at one of our homes on that saturday evening . this might be easier , but the trade off would be that we wouldn ' t have as much time together . i ' ll let you decide .\n",
    "email me back with what would be your preference , and of course if you ' re available on that weekend . the democratic process will prevail - - majority vote will rule ! let me hear from you as soon as possible , preferably by the end of the weekend . and if the vote doesn ' t go your way , no complaining allowed ( like i tend to do ! )\n",
    "have a great weekend , great golf , great fishing , great shopping , or whatever makes you happy !\n",
    "bobby''')"
   ]
  },
  {
   "cell_type": "code",
   "execution_count": 40,
   "metadata": {},
   "outputs": [
    {
     "name": "stdout",
     "output_type": "stream",
     "text": [
      "This is a Spam Mail\n"
     ]
    }
   ],
   "source": [
    "# Example for Spam mail\n",
    "prediction_func('''Subject: photoshop , windows , office . cheap . main trending\n",
    "abasements darer prudently fortuitous undergone\n",
    "lighthearted charm orinoco taster\n",
    "railroad affluent pornographic cuvier\n",
    "irvin parkhouse blameworthy chlorophyll\n",
    "robed diagrammatic fogarty clears bayda\n",
    "inconveniencing managing represented smartness hashish\n",
    "academies shareholders unload badness\n",
    "danielson pure caffein\n",
    "spaniard chargeable levin\n",
    "''')"
   ]
  }
 ],
 "metadata": {
  "kernelspec": {
   "display_name": "tk173348",
   "language": "python",
   "name": "python3"
  },
  "language_info": {
   "codemirror_mode": {
    "name": "ipython",
    "version": 3
   },
   "file_extension": ".py",
   "mimetype": "text/x-python",
   "name": "python",
   "nbconvert_exporter": "python",
   "pygments_lexer": "ipython3",
   "version": "3.10.16"
  },
  "orig_nbformat": 4
 },
 "nbformat": 4,
 "nbformat_minor": 2
}
